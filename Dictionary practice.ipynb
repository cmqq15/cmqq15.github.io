{
 "cells": [
  {
   "cell_type": "markdown",
   "id": "cb95d3bd",
   "metadata": {},
   "source": [
    "# Dictionary data structure # "
   ]
  },
  {
   "cell_type": "markdown",
   "id": "8ece507d",
   "metadata": {},
   "source": [
    "Recap on set "
   ]
  },
  {
   "cell_type": "code",
   "execution_count": 1,
   "id": "f9e06e19",
   "metadata": {},
   "outputs": [],
   "source": [
    "A = {1,2,3,4,5}\n",
    "B = {4,5,6,7,8}\n",
    "C = {8,9,10}"
   ]
  },
  {
   "cell_type": "code",
   "execution_count": 2,
   "id": "43b74981",
   "metadata": {},
   "outputs": [
    {
     "name": "stdout",
     "output_type": "stream",
     "text": [
      "{1, 2, 3, 4, 5}\n",
      "{4, 5, 6, 7, 8}\n",
      "{8, 9, 10}\n"
     ]
    }
   ],
   "source": [
    "print(A)\n",
    "print(B)\n",
    "print(C)"
   ]
  },
  {
   "cell_type": "code",
   "execution_count": 3,
   "id": "ae8497e3",
   "metadata": {},
   "outputs": [
    {
     "data": {
      "text/plain": [
       "{1, 2, 3}"
      ]
     },
     "execution_count": 3,
     "metadata": {},
     "output_type": "execute_result"
    }
   ],
   "source": [
    "A.difference(B) # A - B"
   ]
  },
  {
   "cell_type": "code",
   "execution_count": 4,
   "id": "4b5cdd75",
   "metadata": {},
   "outputs": [
    {
     "data": {
      "text/plain": [
       "{1, 2, 3, 6, 7, 8}"
      ]
     },
     "execution_count": 4,
     "metadata": {},
     "output_type": "execute_result"
    }
   ],
   "source": [
    "A.symmetric_difference(B) # A ^ B \n",
    "# This gives the elements that are in A or B but not in both, that is not common to both."
   ]
  },
  {
   "cell_type": "code",
   "execution_count": 6,
   "id": "450c6415",
   "metadata": {},
   "outputs": [
    {
     "data": {
      "text/plain": [
       "set"
      ]
     },
     "execution_count": 6,
     "metadata": {},
     "output_type": "execute_result"
    }
   ],
   "source": [
    "s3 = {'a', 'b', 'm', 'z'}\n",
    "type(s3)    "
   ]
  },
  {
   "cell_type": "code",
   "execution_count": 7,
   "id": "e5ceec80",
   "metadata": {},
   "outputs": [
    {
     "data": {
      "text/plain": [
       "{'a', 'b', 'm', 'z'}"
      ]
     },
     "execution_count": 7,
     "metadata": {},
     "output_type": "execute_result"
    }
   ],
   "source": [
    "s3"
   ]
  },
  {
   "cell_type": "code",
   "execution_count": 10,
   "id": "2e37b14f",
   "metadata": {},
   "outputs": [
    {
     "ename": "KeyError",
     "evalue": "'x'",
     "output_type": "error",
     "traceback": [
      "\u001b[1;31m---------------------------------------------------------------------------\u001b[0m",
      "\u001b[1;31mKeyError\u001b[0m                                  Traceback (most recent call last)",
      "Cell \u001b[1;32mIn[10], line 1\u001b[0m\n\u001b[1;32m----> 1\u001b[0m s3\u001b[38;5;241m.\u001b[39mremove(\u001b[38;5;124m'\u001b[39m\u001b[38;5;124mx\u001b[39m\u001b[38;5;124m'\u001b[39m)\n",
      "\u001b[1;31mKeyError\u001b[0m: 'x'"
     ]
    }
   ],
   "source": [
    "s3.remove('x') # removes 'x' from s3\n",
    "# If 'x' is not in s3, it raises a KeyError\n",
    "# This is the same as s3.discard('x') but discard does not raise an error if 'x' is not in s3"
   ]
  },
  {
   "cell_type": "code",
   "execution_count": 9,
   "id": "fb4555c8",
   "metadata": {},
   "outputs": [],
   "source": [
    "s3.discard('x') # removes 'x' from s3\n",
    "# If 'x' is not in s3, it does nothing and does not raise an error\n",
    "# This is useful when you are not sure if the element is in the set or not.\n",
    "# It is also useful when you want to remove an element from a set without raising an error if the element is not in the set."
   ]
  },
  {
   "cell_type": "code",
   "execution_count": 11,
   "id": "db1a97fd",
   "metadata": {},
   "outputs": [
    {
     "data": {
      "text/plain": [
       "{'a', 'b', 'm'}"
      ]
     },
     "execution_count": 11,
     "metadata": {},
     "output_type": "execute_result"
    }
   ],
   "source": [
    "s3.discard('z')\n",
    "s3"
   ]
  },
  {
   "cell_type": "markdown",
   "id": "cd55ab17",
   "metadata": {},
   "source": [
    "### Superset, subset and disjoint sets ###"
   ]
  },
  {
   "cell_type": "code",
   "execution_count": 13,
   "id": "7d64b9d4",
   "metadata": {},
   "outputs": [],
   "source": [
    "a9 = {1,2,3,4,5,6,7,8,9}\n",
    "b9 = {3,4,5,6,7,8}\n",
    "c9 = {10,20,30,40}"
   ]
  },
  {
   "cell_type": "code",
   "execution_count": null,
   "id": "23e65630",
   "metadata": {},
   "outputs": [
    {
     "data": {
      "text/plain": [
       "True"
      ]
     },
     "execution_count": 14,
     "metadata": {},
     "output_type": "execute_result"
    }
   ],
   "source": [
    "b9.issubset(a9) # Is b9 a subset of a9?"
   ]
  },
  {
   "cell_type": "code",
   "execution_count": 15,
   "id": "80ae8bc8",
   "metadata": {},
   "outputs": [
    {
     "data": {
      "text/plain": [
       "True"
      ]
     },
     "execution_count": 15,
     "metadata": {},
     "output_type": "execute_result"
    }
   ],
   "source": [
    "a9.issuperset(b9) # Is a9 a superset of b9?"
   ]
  },
  {
   "cell_type": "code",
   "execution_count": 16,
   "id": "4c48988d",
   "metadata": {},
   "outputs": [
    {
     "data": {
      "text/plain": [
       "False"
      ]
     },
     "execution_count": 16,
     "metadata": {},
     "output_type": "execute_result"
    }
   ],
   "source": [
    "c9.issubset(b9) # Is c9 a subset of b9?"
   ]
  },
  {
   "cell_type": "code",
   "execution_count": 17,
   "id": "648bcab0",
   "metadata": {},
   "outputs": [
    {
     "data": {
      "text/plain": [
       "True"
      ]
     },
     "execution_count": 17,
     "metadata": {},
     "output_type": "execute_result"
    }
   ],
   "source": [
    "c9.isdisjoint(b9) # Are c9 and b9 disjoint sets? (no common elements)"
   ]
  },
  {
   "cell_type": "code",
   "execution_count": 18,
   "id": "c632a7aa",
   "metadata": {},
   "outputs": [],
   "source": [
    "a8 = {1,2,3,4,5,6}\n",
    "b8 = {7,8,9}\n",
    "c8 = {10,20,30,40}"
   ]
  },
  {
   "cell_type": "code",
   "execution_count": 19,
   "id": "6081d01f",
   "metadata": {},
   "outputs": [
    {
     "data": {
      "text/plain": [
       "False"
      ]
     },
     "execution_count": 19,
     "metadata": {},
     "output_type": "execute_result"
    }
   ],
   "source": [
    "a8.issuperset(b8) # Is a8 a superset of b8?"
   ]
  },
  {
   "cell_type": "code",
   "execution_count": 20,
   "id": "d0889990",
   "metadata": {},
   "outputs": [
    {
     "data": {
      "text/plain": [
       "False"
      ]
     },
     "execution_count": 20,
     "metadata": {},
     "output_type": "execute_result"
    }
   ],
   "source": [
    "b8.issubset(a8) # Is b8 a subset of a8?"
   ]
  },
  {
   "cell_type": "code",
   "execution_count": 22,
   "id": "83c1b46a",
   "metadata": {},
   "outputs": [
    {
     "data": {
      "text/plain": [
       "True"
      ]
     },
     "execution_count": 22,
     "metadata": {},
     "output_type": "execute_result"
    }
   ],
   "source": [
    "c8.isdisjoint(b8) # Are c8 and b8 disjoint sets? (no common elements)"
   ]
  },
  {
   "cell_type": "code",
   "execution_count": 23,
   "id": "1ac20b43",
   "metadata": {},
   "outputs": [
    {
     "data": {
      "text/plain": [
       "True"
      ]
     },
     "execution_count": 23,
     "metadata": {},
     "output_type": "execute_result"
    }
   ],
   "source": [
    "c8.isdisjoint(a8) # Are c8 and a8 disjoint sets? (no common elements)"
   ]
  },
  {
   "cell_type": "markdown",
   "id": "6670cf76",
   "metadata": {},
   "source": [
    "# DICTIONARY #"
   ]
  },
  {
   "cell_type": "code",
   "execution_count": 26,
   "id": "5c40428b",
   "metadata": {},
   "outputs": [
    {
     "name": "stdout",
     "output_type": "stream",
     "text": [
      "<class 'dict'>\n",
      "<class 'set'>\n"
     ]
    }
   ],
   "source": [
    "d = {} # This is an empty dictionary, not an empty set\n",
    "print(type(d))\n",
    "d = set() # This is an empty set\n",
    "print(type(d))"
   ]
  },
  {
   "cell_type": "code",
   "execution_count": 27,
   "id": "846ff667",
   "metadata": {},
   "outputs": [],
   "source": [
    "d = {1:'one', 2:'two', 3:'three', 4:'four'} \n",
    "# This is a dictionary with keys 1, 2, 3, 4 and values 'one', 'two', 'three', 'four'\n",
    "# The keys are unique and the values can be duplicated\n",
    "# The keys are immutable and the values can be mutable\n",
    "# The keys can be of any immutable type (int, float, string, tuple) and the values can be of any type\n",
    "# The keys are used to access the values in the dictionary\n"
   ]
  },
  {
   "cell_type": "code",
   "execution_count": 28,
   "id": "a8bb654b",
   "metadata": {},
   "outputs": [
    {
     "data": {
      "text/plain": [
       "{1: 'one', 2: 'two', 3: 'three', 4: 'four'}"
      ]
     },
     "execution_count": 28,
     "metadata": {},
     "output_type": "execute_result"
    }
   ],
   "source": [
    "d"
   ]
  },
  {
   "cell_type": "code",
   "execution_count": 29,
   "id": "f10b41f6",
   "metadata": {},
   "outputs": [
    {
     "data": {
      "text/plain": [
       "dict_keys([1, 2, 3, 4])"
      ]
     },
     "execution_count": 29,
     "metadata": {},
     "output_type": "execute_result"
    }
   ],
   "source": [
    "d.keys() \n",
    "# This returns a view object that displays a list of all the keys in the dictionary\n",
    "# The view object is dynamic and will reflect any changes made to the dictionary\n"
   ]
  },
  {
   "cell_type": "code",
   "execution_count": 30,
   "id": "102518ad",
   "metadata": {},
   "outputs": [
    {
     "data": {
      "text/plain": [
       "dict_values(['one', 'two', 'three', 'four'])"
      ]
     },
     "execution_count": 30,
     "metadata": {},
     "output_type": "execute_result"
    }
   ],
   "source": [
    "d.values()\n",
    "# This returns a view object that displays a list of all the values in the dictionary\n",
    "# The view object is dynamic and will reflect any changes made to the dictionary\n",
    "# "
   ]
  },
  {
   "cell_type": "code",
   "execution_count": 31,
   "id": "63d9af99",
   "metadata": {},
   "outputs": [
    {
     "data": {
      "text/plain": [
       "dict_items([(1, 'one'), (2, 'two'), (3, 'three'), (4, 'four')])"
      ]
     },
     "execution_count": 31,
     "metadata": {},
     "output_type": "execute_result"
    }
   ],
   "source": [
    "d.items()\n",
    "# This returns a view object that displays a list of all the key-value pairs in the dictionary\n",
    "# The view object is dynamic and will reflect any changes made to the dictionary\n",
    "# The key-value pairs are tuples of the form (key, value)\n",
    "#"
   ]
  },
  {
   "cell_type": "code",
   "execution_count": 32,
   "id": "47bb6885",
   "metadata": {},
   "outputs": [
    {
     "data": {
      "text/plain": [
       "4"
      ]
     },
     "execution_count": 32,
     "metadata": {},
     "output_type": "execute_result"
    }
   ],
   "source": [
    "len(d)\n",
    "# This returns the number of items in the dictionary\n"
   ]
  },
  {
   "cell_type": "code",
   "execution_count": 33,
   "id": "07177e46",
   "metadata": {},
   "outputs": [
    {
     "data": {
      "text/plain": [
       "'four'"
      ]
     },
     "execution_count": 33,
     "metadata": {},
     "output_type": "execute_result"
    }
   ],
   "source": [
    "d[4]\n",
    "# This returns the value associated with the key 4 in the dictionary\n",
    "# The key is priority over the value\n",
    "# If the key is not in the dictionary, it raises a KeyError\n"
   ]
  },
  {
   "cell_type": "code",
   "execution_count": 34,
   "id": "7ee4edea",
   "metadata": {},
   "outputs": [
    {
     "data": {
      "text/plain": [
       "{1: 'one', 2: 'two', 3: 'three', 4: 'four'}"
      ]
     },
     "execution_count": 34,
     "metadata": {},
     "output_type": "execute_result"
    }
   ],
   "source": [
    "d# This returns the dictionary itself"
   ]
  },
  {
   "cell_type": "code",
   "execution_count": 35,
   "id": "ae70d93d",
   "metadata": {},
   "outputs": [
    {
     "data": {
      "text/plain": [
       "'one'"
      ]
     },
     "execution_count": 35,
     "metadata": {},
     "output_type": "execute_result"
    }
   ],
   "source": [
    "d.get(1)\n",
    "# This returns the value associated with the key 1 in the dictionary"
   ]
  },
  {
   "cell_type": "code",
   "execution_count": 36,
   "id": "54a05489",
   "metadata": {},
   "outputs": [],
   "source": [
    "d.get('one')\n",
    "# This returns None because 'one' is not a key in the dictionary\n",
    "# This is because the keys are priority over the values"
   ]
  },
  {
   "cell_type": "code",
   "execution_count": 37,
   "id": "4f4f6ba4",
   "metadata": {},
   "outputs": [],
   "source": [
    "d1 = d.copy()\n",
    "# This creates a shallow copy of the dictionary d\n",
    "# A shallow copy means that the new dictionary is a new object but the values are still references to the same objects"
   ]
  },
  {
   "cell_type": "code",
   "execution_count": 38,
   "id": "6f8d1487",
   "metadata": {},
   "outputs": [
    {
     "data": {
      "text/plain": [
       "{1: 'one', 2: 'two', 3: 'three', 4: 'four'}"
      ]
     },
     "execution_count": 38,
     "metadata": {},
     "output_type": "execute_result"
    }
   ],
   "source": [
    "d1"
   ]
  },
  {
   "cell_type": "code",
   "execution_count": 39,
   "id": "9b72e4df",
   "metadata": {},
   "outputs": [
    {
     "data": {
      "text/plain": [
       "'one'"
      ]
     },
     "execution_count": 39,
     "metadata": {},
     "output_type": "execute_result"
    }
   ],
   "source": [
    "d1.pop(1)\n",
    "# This removes the key-value pair with key 1 from the dictionary d1\n",
    "# The value associated with the key 1 is returned"
   ]
  },
  {
   "cell_type": "code",
   "execution_count": 40,
   "id": "f8a4a8dd",
   "metadata": {},
   "outputs": [
    {
     "data": {
      "text/plain": [
       "{2: 'two', 3: 'three', 4: 'four'}"
      ]
     },
     "execution_count": 40,
     "metadata": {},
     "output_type": "execute_result"
    }
   ],
   "source": [
    "d1"
   ]
  },
  {
   "cell_type": "code",
   "execution_count": 41,
   "id": "9d378add",
   "metadata": {},
   "outputs": [
    {
     "data": {
      "text/plain": [
       "(4, 'four')"
      ]
     },
     "execution_count": 41,
     "metadata": {},
     "output_type": "execute_result"
    }
   ],
   "source": [
    "d1.popitem()\n",
    "# This removes the last inserted key-value pair from the dictionary d1\n",
    "# The key-value pair is returned as a tuple of the form (key, value)"
   ]
  },
  {
   "cell_type": "code",
   "execution_count": 42,
   "id": "09414223",
   "metadata": {},
   "outputs": [
    {
     "data": {
      "text/plain": [
       "{2: 'two', 3: 'three'}"
      ]
     },
     "execution_count": 42,
     "metadata": {},
     "output_type": "execute_result"
    }
   ],
   "source": [
    "d1"
   ]
  },
  {
   "cell_type": "code",
   "execution_count": 43,
   "id": "72992ce8",
   "metadata": {},
   "outputs": [
    {
     "data": {
      "text/plain": [
       "{1: 'one', 2: 'two', 3: 'three', 4: 'four'}"
      ]
     },
     "execution_count": 43,
     "metadata": {},
     "output_type": "execute_result"
    }
   ],
   "source": [
    "d"
   ]
  },
  {
   "cell_type": "code",
   "execution_count": 44,
   "id": "625f0a9e",
   "metadata": {},
   "outputs": [
    {
     "name": "stdout",
     "output_type": "stream",
     "text": [
      "1\n",
      "2\n",
      "3\n",
      "4\n"
     ]
    }
   ],
   "source": [
    "for i in d:\n",
    "    print(i)\n",
    "# This prints the keys in the dictionary d\n"
   ]
  },
  {
   "cell_type": "code",
   "execution_count": 45,
   "id": "e8d236ae",
   "metadata": {},
   "outputs": [
    {
     "name": "stdout",
     "output_type": "stream",
     "text": [
      "1 : one\n",
      "2 : two\n",
      "3 : three\n",
      "4 : four\n"
     ]
    }
   ],
   "source": [
    "for i in d:\n",
    "    print(i,':', d[i]) \n",
    "# This prints the key-value pairs in the dictionary d\n",
    "# This is the same as:\n",
    "#for i in d.items():\n",
    "#    print(i[0], ':', i[1])"
   ]
  },
  {
   "cell_type": "code",
   "execution_count": 47,
   "id": "d5a8f1d9",
   "metadata": {},
   "outputs": [
    {
     "name": "stdout",
     "output_type": "stream",
     "text": [
      "1 : one\n",
      "2 : two\n",
      "3 : three\n",
      "4 : four\n"
     ]
    }
   ],
   "source": [
    "for i in d.items():\n",
    "    print(i[0], ':', i[1])\n"
   ]
  },
  {
   "cell_type": "code",
   "execution_count": 50,
   "id": "edc818fa",
   "metadata": {},
   "outputs": [
    {
     "name": "stdout",
     "output_type": "stream",
     "text": [
      "1 : {1: 'one', 2: 'two', 3: 'three', 4: 'four'}\n",
      "2 : {1: 'one', 2: 'two', 3: 'three', 4: 'four'}\n",
      "3 : {1: 'one', 2: 'two', 3: 'three', 4: 'four'}\n",
      "4 : {1: 'one', 2: 'two', 3: 'three', 4: 'four'}\n"
     ]
    }
   ],
   "source": [
    "for i in d:\n",
    "    print(i,':', d) \n",
    "# This prints the key-value pairs in the dictionary d\n"
   ]
  }
 ],
 "metadata": {
  "kernelspec": {
   "display_name": "base",
   "language": "python",
   "name": "python3"
  },
  "language_info": {
   "codemirror_mode": {
    "name": "ipython",
    "version": 3
   },
   "file_extension": ".py",
   "mimetype": "text/x-python",
   "name": "python",
   "nbconvert_exporter": "python",
   "pygments_lexer": "ipython3",
   "version": "3.12.7"
  }
 },
 "nbformat": 4,
 "nbformat_minor": 5
}
