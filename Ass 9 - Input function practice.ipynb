{
 "cells": [
  {
   "cell_type": "markdown",
   "id": "c2ceed6b",
   "metadata": {},
   "source": [
    "## Input function"
   ]
  },
  {
   "cell_type": "code",
   "execution_count": 1,
   "id": "b3f7ad04-3e71-43c6-b3ff-ac19307a3f58",
   "metadata": {},
   "outputs": [
    {
     "name": "stdout",
     "output_type": "stream",
     "text": [
      "Type a number:  5\n",
      "Type another number:  6\n"
     ]
    },
    {
     "name": "stdout",
     "output_type": "stream",
     "text": [
      "The sum is:  11\n"
     ]
    }
   ],
   "source": [
    "x = input(\"Type a number: \")\n",
    "y = input(\"Type another number: \")\n",
    "sum = int(x) + int(y)\n",
    "print(\"The sum is: \", sum)"
   ]
  },
  {
   "cell_type": "code",
   "execution_count": 2,
   "id": "a0af2066-0042-45b7-9f54-886b77b8e72f",
   "metadata": {},
   "outputs": [
    {
     "name": "stdout",
     "output_type": "stream",
     "text": [
      " 5\n",
      " 6\n"
     ]
    },
    {
     "name": "stdout",
     "output_type": "stream",
     "text": [
      "56\n"
     ]
    }
   ],
   "source": [
    "x = input()\n",
    "y = input()\n",
    "z = x + y\n",
    "print(z) # console is waiting for user to enter input \n",
    "# also if you work in idle"
   ]
  },
  {
   "cell_type": "code",
   "execution_count": 3,
   "id": "a5549cda-f6cc-4bb9-82a6-4272205b55a9",
   "metadata": {},
   "outputs": [
    {
     "name": "stdout",
     "output_type": "stream",
     "text": [
      "Enter the 1st number 5\n",
      "Enter the 2nd number 6\n"
     ]
    },
    {
     "name": "stdout",
     "output_type": "stream",
     "text": [
      "56\n"
     ]
    }
   ],
   "source": [
    "x1 = input('Enter the 1st number') #whenevery you works in input function it always give you string \n",
    "y1 = input('Enter the 2nd number') # it wont understand as arithmetic operator\n",
    "z1 = x1 + y1\n",
    "print(z1)"
   ]
  },
  {
   "cell_type": "code",
   "execution_count": 4,
   "id": "b42e7abb-19fd-4f90-8a25-6a40ccd1693e",
   "metadata": {},
   "outputs": [
    {
     "data": {
      "text/plain": [
       "str"
      ]
     },
     "execution_count": 4,
     "metadata": {},
     "output_type": "execute_result"
    }
   ],
   "source": [
    "type(x1)\n",
    "type(y1)"
   ]
  },
  {
   "cell_type": "code",
   "execution_count": 5,
   "id": "9a89b17e-e495-44f1-bc16-120fd509f956",
   "metadata": {},
   "outputs": [
    {
     "name": "stdout",
     "output_type": "stream",
     "text": [
      "Enter the 1st number 5\n",
      "Enter the 2nd number 6\n"
     ]
    },
    {
     "name": "stdout",
     "output_type": "stream",
     "text": [
      "11\n"
     ]
    }
   ],
   "source": [
    "x1 = input('Enter the 1st number') #whenevery you works in input function it always give you string \n",
    "a1 = int(x1)\n",
    "y1 = input('Enter the 2nd number') # it wont understand as arithmetic operator\n",
    "b1 = int(y1)\n",
    "z1 = a1 + b1\n",
    "print(z1)"
   ]
  },
  {
   "cell_type": "markdown",
   "id": "8b216ded-7d45-4145-9afa-140a4dfcd49b",
   "metadata": {},
   "source": [
    "For the above code notice we are using many lines because fo that wasting some memory spaces as well"
   ]
  },
  {
   "cell_type": "code",
   "execution_count": 6,
   "id": "b2a4bed4-9b42-49e6-a5ea-3106b0ecce07",
   "metadata": {},
   "outputs": [
    {
     "name": "stdout",
     "output_type": "stream",
     "text": [
      "Enter the 1st number 2\n",
      "Enter the 2nd number 3\n"
     ]
    },
    {
     "data": {
      "text/plain": [
       "5"
      ]
     },
     "execution_count": 6,
     "metadata": {},
     "output_type": "execute_result"
    }
   ],
   "source": [
    "x2 = int(input('Enter the 1st number'))\n",
    "y2 = int(input('Enter the 2nd number'))\n",
    "z2 = x2 + y2\n",
    "z2"
   ]
  },
  {
   "cell_type": "markdown",
   "id": "bff9240a-2c3e-4c0c-b9dc-2e34c796fa25",
   "metadata": {},
   "source": [
    "lets take input from the user in char format, but we dont have char format in python"
   ]
  },
  {
   "cell_type": "code",
   "execution_count": 1,
   "id": "1bcdfb2e-0fb3-46e0-84ca-1e87e843f033",
   "metadata": {},
   "outputs": [
    {
     "name": "stdout",
     "output_type": "stream",
     "text": [
      "enter a char hello\n"
     ]
    },
    {
     "name": "stdout",
     "output_type": "stream",
     "text": [
      "hello\n"
     ]
    }
   ],
   "source": [
    "ch = input('enter a char')\n",
    "print(ch)"
   ]
  },
  {
   "cell_type": "code",
   "execution_count": 2,
   "id": "d52d07c4-ab14-48f8-8063-40677ea44b68",
   "metadata": {},
   "outputs": [
    {
     "name": "stdout",
     "output_type": "stream",
     "text": [
      "h\n"
     ]
    }
   ],
   "source": [
    "print(ch[0])"
   ]
  },
  {
   "cell_type": "code",
   "execution_count": 3,
   "id": "f72f303f-119b-449a-9387-bd0a41f8590f",
   "metadata": {},
   "outputs": [
    {
     "name": "stdout",
     "output_type": "stream",
     "text": [
      "e\n"
     ]
    }
   ],
   "source": [
    "print(ch[1])"
   ]
  },
  {
   "cell_type": "code",
   "execution_count": 4,
   "id": "c5613884-987f-4e7c-acbc-a015727440bd",
   "metadata": {},
   "outputs": [
    {
     "name": "stdout",
     "output_type": "stream",
     "text": [
      "o\n"
     ]
    }
   ],
   "source": [
    "print(ch[-1])"
   ]
  },
  {
   "cell_type": "code",
   "execution_count": 5,
   "id": "1ce5215c-3c54-43f7-bf4b-f5e16ebd783e",
   "metadata": {},
   "outputs": [
    {
     "name": "stdout",
     "output_type": "stream",
     "text": [
      "enter a char h\n"
     ]
    },
    {
     "name": "stdout",
     "output_type": "stream",
     "text": [
      "h\n"
     ]
    }
   ],
   "source": [
    "ch = input('enter a char')[0]\n",
    "print(ch)"
   ]
  },
  {
   "cell_type": "code",
   "execution_count": 6,
   "id": "025f4b33-3d44-4a64-b96d-315bef7fa346",
   "metadata": {},
   "outputs": [
    {
     "name": "stdout",
     "output_type": "stream",
     "text": [
      "enter a char hello\n"
     ]
    },
    {
     "name": "stdout",
     "output_type": "stream",
     "text": [
      "h\n"
     ]
    }
   ],
   "source": [
    "ch = input('enter a char')[0]\n",
    "print(ch)"
   ]
  },
  {
   "cell_type": "code",
   "execution_count": 7,
   "id": "921221be-4919-4425-82a6-13029added0c",
   "metadata": {},
   "outputs": [
    {
     "name": "stdout",
     "output_type": "stream",
     "text": [
      "enter a char el\n"
     ]
    },
    {
     "name": "stdout",
     "output_type": "stream",
     "text": [
      "l\n"
     ]
    }
   ],
   "source": [
    "ch = input('enter a char')[1:3]\n",
    "print(ch)"
   ]
  },
  {
   "cell_type": "code",
   "execution_count": 8,
   "id": "5227021f-9f44-484f-ae63-3953764ca334",
   "metadata": {},
   "outputs": [
    {
     "name": "stdout",
     "output_type": "stream",
     "text": [
      "enter a char hello\n"
     ]
    },
    {
     "name": "stdout",
     "output_type": "stream",
     "text": [
      "el\n"
     ]
    }
   ],
   "source": [
    "ch = input('enter a char')[1:3]\n",
    "print(ch)"
   ]
  },
  {
   "cell_type": "code",
   "execution_count": 9,
   "id": "6b8195d2-765f-4100-9648-95a2b1a181d4",
   "metadata": {},
   "outputs": [
    {
     "name": "stdout",
     "output_type": "stream",
     "text": [
      "enter a char 2 + 6 -1 \n"
     ]
    },
    {
     "name": "stdout",
     "output_type": "stream",
     "text": [
      "2 + 6 -1 \n"
     ]
    }
   ],
   "source": [
    "ch = input('enter a char')\n",
    "print(ch) # if you enter as 2 + 6 -1 we get output as 2 + 6-1 only "
   ]
  },
  {
   "cell_type": "code",
   "execution_count": 10,
   "id": "87a30cc5-ab2f-4082-8612-37389433b535",
   "metadata": {},
   "outputs": [
    {
     "name": "stdout",
     "output_type": "stream",
     "text": [
      "enter a char 2+3-4+10\n"
     ]
    },
    {
     "name": "stdout",
     "output_type": "stream",
     "text": [
      "2+3-4+10\n"
     ]
    }
   ],
   "source": [
    "ch = input('enter a char')\n",
    "print(ch) # if you enter as 2 + 6 -1 we get output as 2 + 6-1 only "
   ]
  },
  {
   "cell_type": "markdown",
   "id": "b9980b54-235c-4ba4-aa0f-9528683c0127",
   "metadata": {},
   "source": [
    "EVAL function using input"
   ]
  },
  {
   "cell_type": "code",
   "execution_count": 11,
   "id": "2d566013-db4c-4efe-a799-1dcddbeadd5d",
   "metadata": {},
   "outputs": [
    {
     "name": "stdout",
     "output_type": "stream",
     "text": [
      "enter an expr 2+3-4+10\n"
     ]
    },
    {
     "name": "stdout",
     "output_type": "stream",
     "text": [
      "11\n"
     ]
    }
   ],
   "source": [
    "result = eval(input('enter an expr'))\n",
    "print(result)"
   ]
  },
  {
   "cell_type": "code",
   "execution_count": null,
   "id": "ecf49637-0423-49fc-b784-c70163aeff03",
   "metadata": {},
   "outputs": [],
   "source": []
  }
 ],
 "metadata": {
  "kernelspec": {
   "display_name": "base",
   "language": "python",
   "name": "python3"
  },
  "language_info": {
   "codemirror_mode": {
    "name": "ipython",
    "version": 3
   },
   "file_extension": ".py",
   "mimetype": "text/x-python",
   "name": "python",
   "nbconvert_exporter": "python",
   "pygments_lexer": "ipython3",
   "version": "3.12.7"
  }
 },
 "nbformat": 4,
 "nbformat_minor": 5
}
