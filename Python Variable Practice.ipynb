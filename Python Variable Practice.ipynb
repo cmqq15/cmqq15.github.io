{
 "cells": [
  {
   "cell_type": "markdown",
   "id": "9eb70f47",
   "metadata": {},
   "source": [
    "Python Practice: Variables"
   ]
  },
  {
   "cell_type": "code",
   "execution_count": 1,
   "id": "52d2f2ba",
   "metadata": {},
   "outputs": [
    {
     "data": {
      "text/plain": [
       "9"
      ]
     },
     "execution_count": 1,
     "metadata": {},
     "output_type": "execute_result"
    }
   ],
   "source": [
    "va = 9\n",
    "va"
   ]
  },
  {
   "cell_type": "code",
   "execution_count": 2,
   "id": "721b2c90",
   "metadata": {},
   "outputs": [
    {
     "data": {
      "text/plain": [
       "140724089727672"
      ]
     },
     "execution_count": 2,
     "metadata": {},
     "output_type": "execute_result"
    }
   ],
   "source": [
    "id(va)"
   ]
  },
  {
   "cell_type": "code",
   "execution_count": 3,
   "id": "5dce8e78",
   "metadata": {},
   "outputs": [
    {
     "ename": "SyntaxError",
     "evalue": "invalid decimal literal (1479807941.py, line 1)",
     "output_type": "error",
     "traceback": [
      "\u001b[1;36m  Cell \u001b[1;32mIn[3], line 1\u001b[1;36m\u001b[0m\n\u001b[1;33m    1nit = 18\u001b[0m\n\u001b[1;37m    ^\u001b[0m\n\u001b[1;31mSyntaxError\u001b[0m\u001b[1;31m:\u001b[0m invalid decimal literal\n"
     ]
    }
   ],
   "source": [
    "1nit = 18\n",
    "1nit"
   ]
  },
  {
   "cell_type": "code",
   "execution_count": 4,
   "id": "591a13c7",
   "metadata": {},
   "outputs": [
    {
     "data": {
      "text/plain": [
       "18"
      ]
     },
     "execution_count": 4,
     "metadata": {},
     "output_type": "execute_result"
    }
   ],
   "source": [
    "nit1 = 18\n",
    "nit1"
   ]
  },
  {
   "cell_type": "code",
   "execution_count": 5,
   "id": "8f59e145",
   "metadata": {},
   "outputs": [
    {
     "ename": "NameError",
     "evalue": "name 'NIT2' is not defined",
     "output_type": "error",
     "traceback": [
      "\u001b[1;31m---------------------------------------------------------------------------\u001b[0m",
      "\u001b[1;31mNameError\u001b[0m                                 Traceback (most recent call last)",
      "Cell \u001b[1;32mIn[5], line 2\u001b[0m\n\u001b[0;32m      1\u001b[0m nit2 \u001b[38;5;241m=\u001b[39m \u001b[38;5;241m19\u001b[39m\n\u001b[1;32m----> 2\u001b[0m NIT2\n",
      "\u001b[1;31mNameError\u001b[0m: name 'NIT2' is not defined"
     ]
    }
   ],
   "source": [
    "nit2 = 19\n",
    "NIT2"
   ]
  },
  {
   "cell_type": "code",
   "execution_count": 6,
   "id": "b560cf2e",
   "metadata": {},
   "outputs": [
    {
     "data": {
      "text/plain": [
       "19"
      ]
     },
     "execution_count": 6,
     "metadata": {},
     "output_type": "execute_result"
    }
   ],
   "source": [
    "nit2"
   ]
  },
  {
   "cell_type": "code",
   "execution_count": 7,
   "id": "89c2bc4e",
   "metadata": {},
   "outputs": [
    {
     "ename": "SyntaxError",
     "evalue": "invalid syntax (434845991.py, line 1)",
     "output_type": "error",
     "traceback": [
      "\u001b[1;36m  Cell \u001b[1;32mIn[7], line 1\u001b[1;36m\u001b[0m\n\u001b[1;33m    v$ = 90\u001b[0m\n\u001b[1;37m     ^\u001b[0m\n\u001b[1;31mSyntaxError\u001b[0m\u001b[1;31m:\u001b[0m invalid syntax\n"
     ]
    }
   ],
   "source": [
    "v$ = 90\n",
    "v$"
   ]
  },
  {
   "cell_type": "code",
   "execution_count": 8,
   "id": "f75fca77",
   "metadata": {},
   "outputs": [
    {
     "data": {
      "text/plain": [
       "90"
      ]
     },
     "execution_count": 8,
     "metadata": {},
     "output_type": "execute_result"
    }
   ],
   "source": [
    "v_ = 90\n",
    "v_\n"
   ]
  },
  {
   "cell_type": "markdown",
   "id": "2fbb298f",
   "metadata": {},
   "source": [
    "This is about variable creation.\n",
    "1. Never starts with digit but ends with digit\n",
    "2. Case sensitive\n",
    "3. Special character is not allowed except _\n",
    "4. key words or reserved words never be declared as variables. They are in total 35.\n",
    "The following code allows to enlist them and their number. Note capital and small letters for some key words"
   ]
  },
  {
   "cell_type": "code",
   "execution_count": 1,
   "id": "ccc47104",
   "metadata": {},
   "outputs": [
    {
     "data": {
      "text/plain": [
       "['False',\n",
       " 'None',\n",
       " 'True',\n",
       " 'and',\n",
       " 'as',\n",
       " 'assert',\n",
       " 'async',\n",
       " 'await',\n",
       " 'break',\n",
       " 'class',\n",
       " 'continue',\n",
       " 'def',\n",
       " 'del',\n",
       " 'elif',\n",
       " 'else',\n",
       " 'except',\n",
       " 'finally',\n",
       " 'for',\n",
       " 'from',\n",
       " 'global',\n",
       " 'if',\n",
       " 'import',\n",
       " 'in',\n",
       " 'is',\n",
       " 'lambda',\n",
       " 'nonlocal',\n",
       " 'not',\n",
       " 'or',\n",
       " 'pass',\n",
       " 'raise',\n",
       " 'return',\n",
       " 'try',\n",
       " 'while',\n",
       " 'with',\n",
       " 'yield']"
      ]
     },
     "execution_count": 1,
     "metadata": {},
     "output_type": "execute_result"
    }
   ],
   "source": [
    "import keyword \n",
    "keyword.kwlist"
   ]
  },
  {
   "cell_type": "code",
   "execution_count": 10,
   "id": "d0b754cc",
   "metadata": {},
   "outputs": [
    {
     "data": {
      "text/plain": [
       "35"
      ]
     },
     "execution_count": 10,
     "metadata": {},
     "output_type": "execute_result"
    }
   ],
   "source": [
    "len(keyword.kwlist)"
   ]
  },
  {
   "cell_type": "markdown",
   "id": "3458bd5b",
   "metadata": {},
   "source": [
    "If the key word is used as variable, there is error"
   ]
  },
  {
   "cell_type": "code",
   "execution_count": 11,
   "id": "5ff9508a",
   "metadata": {},
   "outputs": [
    {
     "ename": "SyntaxError",
     "evalue": "invalid syntax (1907045559.py, line 1)",
     "output_type": "error",
     "traceback": [
      "\u001b[1;36m  Cell \u001b[1;32mIn[11], line 1\u001b[1;36m\u001b[0m\n\u001b[1;33m    for = 67\u001b[0m\n\u001b[1;37m        ^\u001b[0m\n\u001b[1;31mSyntaxError\u001b[0m\u001b[1;31m:\u001b[0m invalid syntax\n"
     ]
    }
   ],
   "source": [
    "for = 67\n",
    "for"
   ]
  },
  {
   "cell_type": "markdown",
   "id": "1e5f7b76",
   "metadata": {},
   "source": [
    "But any small change will give output"
   ]
  },
  {
   "cell_type": "code",
   "execution_count": 12,
   "id": "6c240cf7",
   "metadata": {},
   "outputs": [
    {
     "data": {
      "text/plain": [
       "67"
      ]
     },
     "execution_count": 12,
     "metadata": {},
     "output_type": "execute_result"
    }
   ],
   "source": [
    "For = 67\n",
    "For"
   ]
  },
  {
   "cell_type": "code",
   "execution_count": 13,
   "id": "0e2244e2",
   "metadata": {},
   "outputs": [
    {
     "ename": "SyntaxError",
     "evalue": "invalid syntax (2104124504.py, line 1)",
     "output_type": "error",
     "traceback": [
      "\u001b[1;36m  Cell \u001b[1;32mIn[13], line 1\u001b[1;36m\u001b[0m\n\u001b[1;33m    def = 90\u001b[0m\n\u001b[1;37m        ^\u001b[0m\n\u001b[1;31mSyntaxError\u001b[0m\u001b[1;31m:\u001b[0m invalid syntax\n"
     ]
    }
   ],
   "source": [
    "def = 90\n",
    "def"
   ]
  },
  {
   "cell_type": "code",
   "execution_count": 14,
   "id": "10eefe0c",
   "metadata": {},
   "outputs": [
    {
     "data": {
      "text/plain": [
       "90"
      ]
     },
     "execution_count": 14,
     "metadata": {},
     "output_type": "execute_result"
    }
   ],
   "source": [
    "Def = 90\n",
    "Def"
   ]
  },
  {
   "cell_type": "code",
   "execution_count": 15,
   "id": "d31b3ff5",
   "metadata": {},
   "outputs": [
    {
     "ename": "SyntaxError",
     "evalue": "invalid decimal literal (2008491659.py, line 1)",
     "output_type": "error",
     "traceback": [
      "\u001b[1;36m  Cell \u001b[1;32mIn[15], line 1\u001b[1;36m\u001b[0m\n\u001b[1;33m    3a = 89\u001b[0m\n\u001b[1;37m    ^\u001b[0m\n\u001b[1;31mSyntaxError\u001b[0m\u001b[1;31m:\u001b[0m invalid decimal literal\n"
     ]
    }
   ],
   "source": [
    "3a = 89\n",
    "3a"
   ]
  },
  {
   "cell_type": "code",
   "execution_count": 16,
   "id": "f1606b33",
   "metadata": {},
   "outputs": [
    {
     "ename": "SyntaxError",
     "evalue": "cannot assign to True (361145575.py, line 1)",
     "output_type": "error",
     "traceback": [
      "\u001b[1;36m  Cell \u001b[1;32mIn[16], line 1\u001b[1;36m\u001b[0m\n\u001b[1;33m    True = 8\u001b[0m\n\u001b[1;37m    ^\u001b[0m\n\u001b[1;31mSyntaxError\u001b[0m\u001b[1;31m:\u001b[0m cannot assign to True\n"
     ]
    }
   ],
   "source": [
    "True = 8\n"
   ]
  },
  {
   "cell_type": "code",
   "execution_count": 17,
   "id": "ced1b516",
   "metadata": {},
   "outputs": [
    {
     "data": {
      "text/plain": [
       "8"
      ]
     },
     "execution_count": 17,
     "metadata": {},
     "output_type": "execute_result"
    }
   ],
   "source": [
    "true = 8\n",
    "true"
   ]
  },
  {
   "cell_type": "code",
   "execution_count": 18,
   "id": "d77de83e",
   "metadata": {},
   "outputs": [
    {
     "data": {
      "text/plain": [
       "7"
      ]
     },
     "execution_count": 18,
     "metadata": {},
     "output_type": "execute_result"
    }
   ],
   "source": [
    "a = 5\n",
    "b = 6\n",
    "c = 7\n",
    "\n",
    "a\n",
    "b\n",
    "c"
   ]
  },
  {
   "cell_type": "markdown",
   "id": "10b97b27",
   "metadata": {},
   "source": [
    "To get the output of the three variables, use print"
   ]
  },
  {
   "cell_type": "code",
   "execution_count": 19,
   "id": "f1da504b",
   "metadata": {},
   "outputs": [
    {
     "name": "stdout",
     "output_type": "stream",
     "text": [
      "5\n",
      "6\n",
      "7\n"
     ]
    }
   ],
   "source": [
    "a = 5\n",
    "b = 6\n",
    "c = 7\n",
    "\n",
    "print (a)\n",
    "print (b)\n",
    "print (c)"
   ]
  },
  {
   "cell_type": "markdown",
   "id": "586e4b75",
   "metadata": {},
   "source": [
    "And to know the version of python, use the following code:"
   ]
  },
  {
   "cell_type": "code",
   "execution_count": 20,
   "id": "78ecaa82",
   "metadata": {},
   "outputs": [
    {
     "data": {
      "text/plain": [
       "'3.12.7 | packaged by Anaconda, Inc. | (main, Oct  4 2024, 13:17:27) [MSC v.1929 64 bit (AMD64)]'"
      ]
     },
     "execution_count": 20,
     "metadata": {},
     "output_type": "execute_result"
    }
   ],
   "source": [
    "import sys\n",
    "sys.version"
   ]
  },
  {
   "cell_type": "code",
   "execution_count": 21,
   "id": "23c1d000",
   "metadata": {},
   "outputs": [
    {
     "data": {
      "text/plain": [
       "89"
      ]
     },
     "execution_count": 21,
     "metadata": {},
     "output_type": "execute_result"
    }
   ],
   "source": [
    "import_1 = 89\n",
    "import_1"
   ]
  },
  {
   "cell_type": "markdown",
   "id": "c3029e25",
   "metadata": {},
   "source": [
    "Here it is possible to make any small change on the key word to create a variable."
   ]
  },
  {
   "cell_type": "markdown",
   "id": "27248382",
   "metadata": {},
   "source": [
    "Now let us go stepwise to practice with variables"
   ]
  },
  {
   "cell_type": "markdown",
   "id": "47841663",
   "metadata": {},
   "source": [
    "# 1 Storing and printing a variable"
   ]
  },
  {
   "cell_type": "code",
   "execution_count": 22,
   "id": "e72c0c02",
   "metadata": {},
   "outputs": [
    {
     "data": {
      "text/plain": [
       "10"
      ]
     },
     "execution_count": 22,
     "metadata": {},
     "output_type": "execute_result"
    }
   ],
   "source": [
    "a = 10\n",
    "a"
   ]
  },
  {
   "cell_type": "markdown",
   "id": "ef1c24f2",
   "metadata": {},
   "source": [
    "# 2 Using variables in expressions"
   ]
  },
  {
   "cell_type": "code",
   "execution_count": 24,
   "id": "58085d12",
   "metadata": {},
   "outputs": [
    {
     "data": {
      "text/plain": [
       "11"
      ]
     },
     "execution_count": 24,
     "metadata": {},
     "output_type": "execute_result"
    }
   ],
   "source": [
    "a = 5\n",
    "b = 6   \n",
    "result = a + b\n",
    "result"
   ]
  },
  {
   "cell_type": "markdown",
   "id": "4a368890",
   "metadata": {},
   "source": [
    "# 3 Changing the value of the variable: initial value is 50 and new value is 100"
   ]
  },
  {
   "cell_type": "code",
   "execution_count": 25,
   "id": "8590d432",
   "metadata": {},
   "outputs": [
    {
     "data": {
      "text/plain": [
       "50"
      ]
     },
     "execution_count": 25,
     "metadata": {},
     "output_type": "execute_result"
    }
   ],
   "source": [
    "score = 50\n",
    "score"
   ]
  },
  {
   "cell_type": "code",
   "execution_count": 26,
   "id": "4ccf8aac",
   "metadata": {},
   "outputs": [
    {
     "data": {
      "text/plain": [
       "100"
      ]
     },
     "execution_count": 26,
     "metadata": {},
     "output_type": "execute_result"
    }
   ],
   "source": [
    "score = 100\n",
    "score"
   ]
  },
  {
   "cell_type": "markdown",
   "id": "0cbb15c0",
   "metadata": {},
   "source": [
    "# 4 Concatenating strings: \n",
    "First you assign values to variables,then concatenate the strings and store a new variable."
   ]
  },
  {
   "cell_type": "code",
   "execution_count": 27,
   "id": "1cbad691",
   "metadata": {},
   "outputs": [
    {
     "data": {
      "text/plain": [
       "'John Doe'"
      ]
     },
     "execution_count": 27,
     "metadata": {},
     "output_type": "execute_result"
    }
   ],
   "source": [
    "# assigning values to variables\n",
    "first_name = \"John\" \n",
    "last_name = \"Doe\"\n",
    "# concatenate the strings and store a new variable\n",
    "full_name = first_name + \" \" + last_name\n",
    "full_name\n",
    "\n"
   ]
  },
  {
   "cell_type": "markdown",
   "id": "c354787e",
   "metadata": {},
   "source": [
    "# 5 Using variables in a calculation"
   ]
  },
  {
   "cell_type": "code",
   "execution_count": 28,
   "id": "522eaff7",
   "metadata": {},
   "outputs": [
    {
     "data": {
      "text/plain": [
       "50"
      ]
     },
     "execution_count": 28,
     "metadata": {},
     "output_type": "execute_result"
    }
   ],
   "source": [
    "# assigning values to variables\n",
    "length = 10\n",
    "width = 5\n",
    "# calculate the area of the rectangle\n",
    "area = length * width\n",
    "area"
   ]
  },
  {
   "cell_type": "markdown",
   "id": "98fcc662",
   "metadata": {},
   "source": [
    "# 6 Reassigning values to variables"
   ]
  },
  {
   "cell_type": "code",
   "execution_count": 29,
   "id": "10229a91",
   "metadata": {},
   "outputs": [
    {
     "data": {
      "text/plain": [
       "10"
      ]
     },
     "execution_count": 29,
     "metadata": {},
     "output_type": "execute_result"
    }
   ],
   "source": [
    "# Python allows to reassign a variable to a new value at any time\n",
    "x = 10 # initial value of x\n",
    "x"
   ]
  },
  {
   "cell_type": "code",
   "execution_count": 30,
   "id": "bec44748",
   "metadata": {},
   "outputs": [
    {
     "data": {
      "text/plain": [
       "20"
      ]
     },
     "execution_count": 30,
     "metadata": {},
     "output_type": "execute_result"
    }
   ],
   "source": [
    "# Reassigning a new value to x\n",
    "x = 20 # new value of x\n",
    "x "
   ]
  },
  {
   "cell_type": "code",
   "execution_count": null,
   "id": "ba8d001e",
   "metadata": {},
   "outputs": [],
   "source": []
  }
 ],
 "metadata": {
  "kernelspec": {
   "display_name": "base",
   "language": "python",
   "name": "python3"
  },
  "language_info": {
   "codemirror_mode": {
    "name": "ipython",
    "version": 3
   },
   "file_extension": ".py",
   "mimetype": "text/x-python",
   "name": "python",
   "nbconvert_exporter": "python",
   "pygments_lexer": "ipython3",
   "version": "3.12.7"
  }
 },
 "nbformat": 4,
 "nbformat_minor": 5
}
