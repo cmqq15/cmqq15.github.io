{
 "cells": [
  {
   "cell_type": "markdown",
   "id": "6e843694",
   "metadata": {},
   "source": [
    "# Builtin Functions Exercises #\n",
    "Sum, max, min, len, list, enumerate..."
   ]
  },
  {
   "cell_type": "code",
   "execution_count": 1,
   "id": "cd7e6fe7",
   "metadata": {},
   "outputs": [
    {
     "data": {
      "text/plain": [
       "{1, 2, 3, 4, 5, 6, 7, 8, 9}"
      ]
     },
     "execution_count": 1,
     "metadata": {},
     "output_type": "execute_result"
    }
   ],
   "source": [
    "A= {1, 2, 3, 4, 5, 6, 7, 8, 9}\n",
    "A"
   ]
  },
  {
   "cell_type": "code",
   "execution_count": 2,
   "id": "9927304e",
   "metadata": {},
   "outputs": [
    {
     "data": {
      "text/plain": [
       "set"
      ]
     },
     "execution_count": 2,
     "metadata": {},
     "output_type": "execute_result"
    }
   ],
   "source": [
    "type(A)"
   ]
  },
  {
   "cell_type": "code",
   "execution_count": 3,
   "id": "1062c443",
   "metadata": {},
   "outputs": [
    {
     "data": {
      "text/plain": [
       "45"
      ]
     },
     "execution_count": 3,
     "metadata": {},
     "output_type": "execute_result"
    }
   ],
   "source": [
    "sum(A) \n",
    "# sum of all elements in the set"
   ]
  },
  {
   "cell_type": "code",
   "execution_count": 5,
   "id": "bca132e3",
   "metadata": {},
   "outputs": [
    {
     "data": {
      "text/plain": [
       "9"
      ]
     },
     "execution_count": 5,
     "metadata": {},
     "output_type": "execute_result"
    }
   ],
   "source": [
    "max(A)"
   ]
  },
  {
   "cell_type": "code",
   "execution_count": 6,
   "id": "49f086ad",
   "metadata": {},
   "outputs": [
    {
     "data": {
      "text/plain": [
       "1"
      ]
     },
     "execution_count": 6,
     "metadata": {},
     "output_type": "execute_result"
    }
   ],
   "source": [
    "min(A)"
   ]
  },
  {
   "cell_type": "code",
   "execution_count": 7,
   "id": "7d19de99",
   "metadata": {},
   "outputs": [
    {
     "data": {
      "text/plain": [
       "9"
      ]
     },
     "execution_count": 7,
     "metadata": {},
     "output_type": "execute_result"
    }
   ],
   "source": [
    "len(A)"
   ]
  },
  {
   "cell_type": "code",
   "execution_count": 10,
   "id": "95ae837d",
   "metadata": {},
   "outputs": [
    {
     "data": {
      "text/plain": [
       "[(0, 1), (1, 2), (2, 3), (3, 4), (4, 5), (5, 6), (6, 7), (7, 8), (8, 9)]"
      ]
     },
     "execution_count": 10,
     "metadata": {},
     "output_type": "execute_result"
    }
   ],
   "source": [
    "list(enumerate(A)) # enumerate() returns an iterator of tuples\n",
    "# the first element of the tuple is the index and the second is the value\n",
    "# the output is a list of tuples"
   ]
  },
  {
   "cell_type": "code",
   "execution_count": 11,
   "id": "e9cf2c50",
   "metadata": {},
   "outputs": [
    {
     "data": {
      "text/plain": [
       "[9, 8, 7, 6, 5, 4, 3, 2, 1]"
      ]
     },
     "execution_count": 11,
     "metadata": {},
     "output_type": "execute_result"
    }
   ],
   "source": [
    "D= sorted(A,reverse=True) \n",
    "D\n",
    "# sorted() returns a sorted list of the elements in the set\n",
    "# reverse=True sorts the elements in descending order\n",
    "# sorted() does not modify the original set\n",
    "# sorted() returns a new list of the elements in the set\n",
    "# sorted() can also be used to sort a list of tuples\n",
    "# sorted() can also be used to sort a list of lists\n",
    "# sorted() can also be used to sort a list of strings\n",
    "# sorted() can also be used to sort a list of dictionaries\n",
    "# sorted() can also be used to sort a list of sets\n",
    "# sorted() can also be used to sort a list of frozensets\n"
   ]
  },
  {
   "cell_type": "code",
   "execution_count": 13,
   "id": "b3c68616",
   "metadata": {},
   "outputs": [
    {
     "data": {
      "text/plain": [
       "[1, 2, 3, 4, 5, 6, 7, 8, 9]"
      ]
     },
     "execution_count": 13,
     "metadata": {},
     "output_type": "execute_result"
    }
   ],
   "source": [
    "sorted(D)\n",
    "# "
   ]
  },
  {
   "cell_type": "markdown",
   "id": "e338595b",
   "metadata": {},
   "source": [
    "# Dictionary #  \n",
    "- Dictionary is a mutable data type in Python. \n",
    "- A python dictionary is a collection of key and value pairs separated by a colon (:) & enclosed \n",
    "  in curly braces {}. \n",
    "- Keys must be unique in a dictionary, duplicate values are allowed"
   ]
  },
  {
   "cell_type": "markdown",
   "id": "0c3c27b9",
   "metadata": {},
   "source": [
    "## Create a dictionary ##"
   ]
  },
  {
   "cell_type": "code",
   "execution_count": 14,
   "id": "3d598127",
   "metadata": {},
   "outputs": [
    {
     "data": {
      "text/plain": [
       "{}"
      ]
     },
     "execution_count": 14,
     "metadata": {},
     "output_type": "execute_result"
    }
   ],
   "source": [
    "mydict = dict() # empty dictionary \n",
    "mydict"
   ]
  },
  {
   "cell_type": "code",
   "execution_count": 15,
   "id": "b29297eb",
   "metadata": {},
   "outputs": [
    {
     "data": {
      "text/plain": [
       "dict"
      ]
     },
     "execution_count": 15,
     "metadata": {},
     "output_type": "execute_result"
    }
   ],
   "source": [
    "type(mydict)"
   ]
  },
  {
   "cell_type": "code",
   "execution_count": 17,
   "id": "6f828b75",
   "metadata": {},
   "outputs": [
    {
     "data": {
      "text/plain": [
       "{1: 'one', 2: 'two', 3: 'three'}"
      ]
     },
     "execution_count": 17,
     "metadata": {},
     "output_type": "execute_result"
    }
   ],
   "source": [
    "mydict = {1:'one' , 2:'two' , 3:'three'} # dictionary with integer keys \n",
    "mydict\n",
    "# dictionary with integer keys and string values\n"
   ]
  },
  {
   "cell_type": "code",
   "execution_count": 18,
   "id": "9f1ed96f",
   "metadata": {},
   "outputs": [
    {
     "data": {
      "text/plain": [
       "{1: 'one', 2: 'two', 3: 'three'}"
      ]
     },
     "execution_count": 18,
     "metadata": {},
     "output_type": "execute_result"
    }
   ],
   "source": [
    "mydict = dict({1:'one' , 2:'two' , 3:'three'}) # Create dictionary using dict() \n",
    "mydict\n",
    "# dictionary with integer keys and string values\n"
   ]
  },
  {
   "cell_type": "code",
   "execution_count": 19,
   "id": "1336aa38",
   "metadata": {},
   "outputs": [
    {
     "data": {
      "text/plain": [
       "{'A': 'one', 'B': 'two', 'C': 'three'}"
      ]
     },
     "execution_count": 19,
     "metadata": {},
     "output_type": "execute_result"
    }
   ],
   "source": [
    "mydict = {'A':'one' , 'B':'two' , 'C':'three'}\n",
    "mydict\n",
    "# dictionary with string keys and string values\n"
   ]
  },
  {
   "cell_type": "code",
   "execution_count": 20,
   "id": "397eb3ec",
   "metadata": {},
   "outputs": [
    {
     "data": {
      "text/plain": [
       "{1: 'one', 'A': 'two', 3: 'three'}"
      ]
     },
     "execution_count": 20,
     "metadata": {},
     "output_type": "execute_result"
    }
   ],
   "source": [
    "mydict = {1:'one' , 'A':'two' , 3:'three'}\n",
    "mydict\n",
    "# dictionary with mixed keys and string values"
   ]
  },
  {
   "cell_type": "code",
   "execution_count": 21,
   "id": "5fc7b820",
   "metadata": {},
   "outputs": [
    {
     "data": {
      "text/plain": [
       "dict_keys([1, 'A', 3])"
      ]
     },
     "execution_count": 21,
     "metadata": {},
     "output_type": "execute_result"
    }
   ],
   "source": [
    "mydict.keys()\n",
    "# returns a view object that displays a list of all the keys in the dictionary"
   ]
  },
  {
   "cell_type": "code",
   "execution_count": 22,
   "id": "881eb1e3",
   "metadata": {},
   "outputs": [
    {
     "data": {
      "text/plain": [
       "dict_values(['one', 'two', 'three'])"
      ]
     },
     "execution_count": 22,
     "metadata": {},
     "output_type": "execute_result"
    }
   ],
   "source": [
    "mydict.values() # Return Dictionary Values using values() method\n"
   ]
  },
  {
   "cell_type": "code",
   "execution_count": 23,
   "id": "e515146d",
   "metadata": {},
   "outputs": [
    {
     "data": {
      "text/plain": [
       "dict_items([(1, 'one'), ('A', 'two'), (3, 'three')])"
      ]
     },
     "execution_count": 23,
     "metadata": {},
     "output_type": "execute_result"
    }
   ],
   "source": [
    "mydict.items() # Access each key-value pair within a dictionary"
   ]
  },
  {
   "cell_type": "code",
   "execution_count": 24,
   "id": "9aa34a7e",
   "metadata": {},
   "outputs": [
    {
     "data": {
      "text/plain": [
       "{1: 'one', 2: 'two', 'A': ['asif', 'john', 'Maria']}"
      ]
     },
     "execution_count": 24,
     "metadata": {},
     "output_type": "execute_result"
    }
   ],
   "source": [
    "mydict = {1:'one' , 2:'two' , 'A':['asif' , 'john' , 'Maria']}\n",
    "mydict\n",
    "# dictionary with list as value\n",
    "# dictionary with integer keys and list values\n",
    "# dictionary with string keys and list values\n",
    "# dictionary with mixed keys and list values\n"
   ]
  },
  {
   "cell_type": "code",
   "execution_count": 25,
   "id": "f96cd8a5",
   "metadata": {},
   "outputs": [
    {
     "data": {
      "text/plain": [
       "{1: 'one',\n",
       " 2: 'two',\n",
       " 'A': ['asif', 'john', 'Maria'],\n",
       " 'B': ('Bat', 'cat', 'hat')}"
      ]
     },
     "execution_count": 25,
     "metadata": {},
     "output_type": "execute_result"
    }
   ],
   "source": [
    "mydict = {1:'one' , 2:'two' , 'A':['asif' , 'john' , 'Maria'],  'B':('Bat' , 'cat', 'hat')}\n",
    "mydict"
   ]
  },
  {
   "cell_type": "code",
   "execution_count": 26,
   "id": "2eeb006a",
   "metadata": {},
   "outputs": [
    {
     "data": {
      "text/plain": [
       "{1: 'one',\n",
       " 2: 'two',\n",
       " 'A': {'Name': 'asif', 'Age': 20},\n",
       " 'B': ('Bat', 'cat', 'hat')}"
      ]
     },
     "execution_count": 26,
     "metadata": {},
     "output_type": "execute_result"
    }
   ],
   "source": [
    "mydict = {1:'one' , 2:'two' , 'A':{'Name':'asif' , 'Age' :20},  'B':('Bat' , 'cat', 'hat')}\n",
    "mydict"
   ]
  },
  {
   "cell_type": "code",
   "execution_count": null,
   "id": "2d9c50ac",
   "metadata": {},
   "outputs": [
    {
     "data": {
      "text/plain": [
       "{'a': None, 'b': None, 'c': None, 'd': None}"
      ]
     },
     "execution_count": 28,
     "metadata": {},
     "output_type": "execute_result"
    }
   ],
   "source": [
    "keys = {'a' , 'b' , 'c' , 'd'} \n",
    "mydict3 = dict.fromkeys(keys) \n",
    "# Create a dictionary from a sequence of keys \n",
    "mydict3\n",
    "#  dict.fromkeys() creates a new dictionary with the specified keys and assigns them a default value of None\n"
   ]
  },
  {
   "cell_type": "code",
   "execution_count": 29,
   "id": "823b3a13",
   "metadata": {},
   "outputs": [
    {
     "data": {
      "text/plain": [
       "{'a': 10, 'b': 10, 'c': 10, 'd': 10}"
      ]
     },
     "execution_count": 29,
     "metadata": {},
     "output_type": "execute_result"
    }
   ],
   "source": [
    "keys = {'a' , 'b' , 'c' , 'd'} \n",
    "value = 10\n",
    "mydict3 = dict.fromkeys(keys , value) \n",
    "# Create a dictionary from a sequence of keys and assign them a default value\n",
    "mydict3"
   ]
  },
  {
   "cell_type": "code",
   "execution_count": null,
   "id": "721e9652",
   "metadata": {},
   "outputs": [
    {
     "data": {
      "text/plain": [
       "{'a': [10, 20, 30], 'b': [10, 20, 30], 'c': [10, 20, 30], 'd': [10, 20, 30]}"
      ]
     },
     "execution_count": 30,
     "metadata": {},
     "output_type": "execute_result"
    }
   ],
   "source": [
    "keys = {'a' , 'b' , 'c' , 'd'} \n",
    "value = [10,20,30] \n",
    "mydict3 = dict.fromkeys(keys , value)\n",
    "# Create a dictionary from a sequence of keys and assign them a default value\n",
    "mydict3"
   ]
  },
  {
   "cell_type": "code",
   "execution_count": 31,
   "id": "2d9ee0a9",
   "metadata": {},
   "outputs": [
    {
     "data": {
      "text/plain": [
       "{'a': [10, 20, 30, 40],\n",
       " 'b': [10, 20, 30, 40],\n",
       " 'c': [10, 20, 30, 40],\n",
       " 'd': [10, 20, 30, 40]}"
      ]
     },
     "execution_count": 31,
     "metadata": {},
     "output_type": "execute_result"
    }
   ],
   "source": [
    "value.append(40) \n",
    "# Append 40 to the list\n",
    "mydict3 "
   ]
  },
  {
   "cell_type": "markdown",
   "id": "cac0b3f3",
   "metadata": {},
   "source": [
    "## Accessing Items in Dictionary ##"
   ]
  },
  {
   "cell_type": "code",
   "execution_count": 32,
   "id": "a1e251b5",
   "metadata": {},
   "outputs": [
    {
     "data": {
      "text/plain": [
       "{1: 'one', 2: 'two', 3: 'three', 4: 'four'}"
      ]
     },
     "execution_count": 32,
     "metadata": {},
     "output_type": "execute_result"
    }
   ],
   "source": [
    "mydict = {1:'one' , 2:'two' , 3:'three' , 4:'four'} \n",
    "mydict "
   ]
  },
  {
   "cell_type": "code",
   "execution_count": 33,
   "id": "8fb7d727",
   "metadata": {},
   "outputs": [
    {
     "data": {
      "text/plain": [
       "'one'"
      ]
     },
     "execution_count": 33,
     "metadata": {},
     "output_type": "execute_result"
    }
   ],
   "source": [
    "mydict[1]\n",
    "# Accessing the value of key 1"
   ]
  },
  {
   "cell_type": "code",
   "execution_count": 34,
   "id": "bb0dbc45",
   "metadata": {},
   "outputs": [
    {
     "data": {
      "text/plain": [
       "'one'"
      ]
     },
     "execution_count": 34,
     "metadata": {},
     "output_type": "execute_result"
    }
   ],
   "source": [
    "mydict.get(1)\n",
    "# Accessing the value of key 1 using get() method"
   ]
  },
  {
   "cell_type": "code",
   "execution_count": 35,
   "id": "be96a3e5",
   "metadata": {},
   "outputs": [
    {
     "data": {
      "text/plain": [
       "{'Name': 'Asif', 'ID': 74123, 'DOB': 1991, 'job': 'Analyst'}"
      ]
     },
     "execution_count": 35,
     "metadata": {},
     "output_type": "execute_result"
    }
   ],
   "source": [
    "mydict1 = {'Name':'Asif' , 'ID': 74123 , 'DOB': 1991 , 'job' :'Analyst'} \n",
    "mydict1\n",
    "# dictionary with string keys and mixed values"
   ]
  },
  {
   "cell_type": "code",
   "execution_count": 40,
   "id": "69435c3c",
   "metadata": {},
   "outputs": [
    {
     "data": {
      "text/plain": [
       "'Asif'"
      ]
     },
     "execution_count": 40,
     "metadata": {},
     "output_type": "execute_result"
    }
   ],
   "source": [
    "mydict1['Name']\n",
    "# Accessing the value of key 'Name'"
   ]
  },
  {
   "cell_type": "code",
   "execution_count": 39,
   "id": "5dd79f33",
   "metadata": {},
   "outputs": [
    {
     "data": {
      "text/plain": [
       "'Analyst'"
      ]
     },
     "execution_count": 39,
     "metadata": {},
     "output_type": "execute_result"
    }
   ],
   "source": [
    "mydict1.get('job')\n",
    "# Accessing the value of key 'job' using get() method\n",
    "# get() method returns None if the key is not found\n",
    "# get() method can also take a default value as a second argument"
   ]
  },
  {
   "cell_type": "markdown",
   "id": "19f18acf",
   "metadata": {},
   "source": [
    "## Add, Remove & Change Items ##"
   ]
  },
  {
   "cell_type": "code",
   "execution_count": 41,
   "id": "4e94f7dc",
   "metadata": {},
   "outputs": [
    {
     "data": {
      "text/plain": [
       "{'Name': 'Asif', 'ID': 12345, 'DOB': 1991, 'Address': 'Hilsinki'}"
      ]
     },
     "execution_count": 41,
     "metadata": {},
     "output_type": "execute_result"
    }
   ],
   "source": [
    "mydict1 = {'Name':'Asif' , 'ID': 12345 , 'DOB': 1991 , 'Address' : 'Hilsinki'} \n",
    "mydict1\n",
    "# dictionary with string keys and mixed values"
   ]
  },
  {
   "cell_type": "code",
   "execution_count": 45,
   "id": "418d7bb3",
   "metadata": {},
   "outputs": [
    {
     "data": {
      "text/plain": [
       "{'Name': 'Asif', 'ID': 12345, 'DOB': 1992, 'Address': 'Delhi'}"
      ]
     },
     "execution_count": 45,
     "metadata": {},
     "output_type": "execute_result"
    }
   ],
   "source": [
    "mydict1['DOB'] = 1992  \n",
    "# Changing Dictionary Items \n",
    "# Changing the value of key 'DOB' to 1992\n",
    "# the value of key 'DOB' is now 1992\n",
    "mydict1['Address'] = 'Delhi' \n",
    "# Adding new key-value pair to the dictionary   \n",
    "mydict1"
   ]
  },
  {
   "cell_type": "code",
   "execution_count": 47,
   "id": "f9aebb6a",
   "metadata": {},
   "outputs": [
    {
     "data": {
      "text/plain": [
       "{'Name': 'Asif', 'ID': 12345, 'DOB': 1995, 'Address': 'Delhi'}"
      ]
     },
     "execution_count": 47,
     "metadata": {},
     "output_type": "execute_result"
    }
   ],
   "source": [
    "dict1 = {'DOB':1995} \n",
    "mydict1.update(dict1) \n",
    "mydict1 \n",
    "# Update the dictionary with another dictionary"
   ]
  },
  {
   "cell_type": "code",
   "execution_count": 48,
   "id": "12e8eb48",
   "metadata": {},
   "outputs": [
    {
     "data": {
      "text/plain": [
       "{'Name': 'Asif',\n",
       " 'ID': 12345,\n",
       " 'DOB': 1995,\n",
       " 'Address': 'Delhi',\n",
       " 'Job': 'Analyst'}"
      ]
     },
     "execution_count": 48,
     "metadata": {},
     "output_type": "execute_result"
    }
   ],
   "source": [
    "mydict1['Job'] = 'Analyst' \n",
    "# Adding items in the dictionary \n",
    "# Adding new key-value pair to the dictionary\n",
    "mydict1"
   ]
  },
  {
   "cell_type": "code",
   "execution_count": 57,
   "id": "a0691ca1",
   "metadata": {},
   "outputs": [
    {
     "data": {
      "text/plain": [
       "{1: 'one', 2: 'two', 3: 'three', 4: 'four'}"
      ]
     },
     "execution_count": 57,
     "metadata": {},
     "output_type": "execute_result"
    }
   ],
   "source": [
    "mydict"
   ]
  },
  {
   "cell_type": "code",
   "execution_count": 58,
   "id": "d27264f9",
   "metadata": {},
   "outputs": [
    {
     "data": {
      "text/plain": [
       "{}"
      ]
     },
     "execution_count": 58,
     "metadata": {},
     "output_type": "execute_result"
    }
   ],
   "source": [
    "mydict1"
   ]
  },
  {
   "cell_type": "code",
   "execution_count": 62,
   "id": "77c1a4d8",
   "metadata": {},
   "outputs": [],
   "source": [
    "mydict1 = {'Name':'Asif' , 'ID': 74123 , 'DOB': 1991 , 'Job' :'Analyst'}"
   ]
  },
  {
   "cell_type": "code",
   "execution_count": 63,
   "id": "b16eb424",
   "metadata": {},
   "outputs": [
    {
     "data": {
      "text/plain": [
       "{'Name': 'Asif', 'ID': 74123, 'DOB': 1991, 'Job': 'Analyst'}"
      ]
     },
     "execution_count": 63,
     "metadata": {},
     "output_type": "execute_result"
    }
   ],
   "source": [
    "mydict1"
   ]
  },
  {
   "cell_type": "code",
   "execution_count": 64,
   "id": "484984c4",
   "metadata": {},
   "outputs": [
    {
     "data": {
      "text/plain": [
       "{'Name': 'Asif', 'ID': 74123, 'DOB': 1991}"
      ]
     },
     "execution_count": 64,
     "metadata": {},
     "output_type": "execute_result"
    }
   ],
   "source": [
    "mydict1.pop('Job') # Removing items in the dictionary using Pop method \n",
    "mydict1 "
   ]
  },
  {
   "cell_type": "code",
   "execution_count": 65,
   "id": "8880c7df",
   "metadata": {},
   "outputs": [
    {
     "data": {
      "text/plain": [
       "('DOB', 1991)"
      ]
     },
     "execution_count": 65,
     "metadata": {},
     "output_type": "execute_result"
    }
   ],
   "source": [
    "mydict1.popitem() # A random item is removed "
   ]
  },
  {
   "cell_type": "code",
   "execution_count": 66,
   "id": "7c94523d",
   "metadata": {},
   "outputs": [
    {
     "data": {
      "text/plain": [
       "{'Name': 'Asif', 'ID': 74123}"
      ]
     },
     "execution_count": 66,
     "metadata": {},
     "output_type": "execute_result"
    }
   ],
   "source": [
    "mydict1 "
   ]
  },
  {
   "cell_type": "code",
   "execution_count": 67,
   "id": "324204cf",
   "metadata": {},
   "outputs": [
    {
     "data": {
      "text/plain": [
       "{'Name': 'Asif'}"
      ]
     },
     "execution_count": 67,
     "metadata": {},
     "output_type": "execute_result"
    }
   ],
   "source": [
    "del[mydict1['ID']] # Removing item using del method \n",
    "mydict1"
   ]
  },
  {
   "cell_type": "code",
   "execution_count": 68,
   "id": "5b4813ef",
   "metadata": {},
   "outputs": [
    {
     "data": {
      "text/plain": [
       "{}"
      ]
     },
     "execution_count": 68,
     "metadata": {},
     "output_type": "execute_result"
    }
   ],
   "source": [
    "mydict1.clear() # Delete all items of the dictionary using clear method \n",
    "mydict1"
   ]
  },
  {
   "cell_type": "code",
   "execution_count": 69,
   "id": "c2fb5b65",
   "metadata": {},
   "outputs": [
    {
     "ename": "NameError",
     "evalue": "name 'mydict1' is not defined",
     "output_type": "error",
     "traceback": [
      "\u001b[1;31m---------------------------------------------------------------------------\u001b[0m",
      "\u001b[1;31mNameError\u001b[0m                                 Traceback (most recent call last)",
      "Cell \u001b[1;32mIn[69], line 2\u001b[0m\n\u001b[0;32m      1\u001b[0m \u001b[38;5;28;01mdel\u001b[39;00m mydict1 \u001b[38;5;66;03m# Delete the dictionary object \u001b[39;00m\n\u001b[1;32m----> 2\u001b[0m mydict1\n",
      "\u001b[1;31mNameError\u001b[0m: name 'mydict1' is not defined"
     ]
    }
   ],
   "source": [
    "del mydict1 # Delete the dictionary object \n",
    "mydict1"
   ]
  },
  {
   "cell_type": "markdown",
   "id": "28199c3b",
   "metadata": {},
   "source": [
    "## Copy Dictionary ##"
   ]
  },
  {
   "cell_type": "code",
   "execution_count": 78,
   "id": "2ae170a0",
   "metadata": {},
   "outputs": [
    {
     "data": {
      "text/plain": [
       "{'Name': 'Asif', 'ID': 12345, 'DOB': 1991, 'Address': 'Helsinki'}"
      ]
     },
     "execution_count": 78,
     "metadata": {},
     "output_type": "execute_result"
    }
   ],
   "source": [
    "mydict = {'Name':'Asif' , 'ID': 12345 , 'DOB': 1991 , 'Address' : 'Helsinki'} \n",
    "mydict"
   ]
  },
  {
   "cell_type": "code",
   "execution_count": 79,
   "id": "334efcb4",
   "metadata": {},
   "outputs": [],
   "source": [
    "mydict1 = mydict \n",
    "# Create a new reference \"mydict1\"\n",
    "# mydict1 is a reference to the same dictionary object as mydict"
   ]
  },
  {
   "cell_type": "code",
   "execution_count": 80,
   "id": "250dc55c",
   "metadata": {},
   "outputs": [
    {
     "data": {
      "text/plain": [
       "(1776303954816, 1776303954816)"
      ]
     },
     "execution_count": 80,
     "metadata": {},
     "output_type": "execute_result"
    }
   ],
   "source": [
    "id(mydict) , id(mydict1)\n",
    "# id() function returns the identity of an object\n",
    "# id() function returns the memory address of the object\n",
    "# id() function returns the same memory address for both mydict and mydict1"
   ]
  },
  {
   "cell_type": "code",
   "execution_count": 82,
   "id": "a3d2d4ac",
   "metadata": {},
   "outputs": [],
   "source": [
    "mydict2 = mydict.copy()\n",
    "# Create a shallow copy of the dictionary"
   ]
  },
  {
   "cell_type": "code",
   "execution_count": 83,
   "id": "57e6e1df",
   "metadata": {},
   "outputs": [
    {
     "data": {
      "text/plain": [
       "1776303954112"
      ]
     },
     "execution_count": 83,
     "metadata": {},
     "output_type": "execute_result"
    }
   ],
   "source": [
    "id(mydict2)\n",
    "# id() function returns a different memory address for mydict2"
   ]
  },
  {
   "cell_type": "code",
   "execution_count": 85,
   "id": "32f92ec3",
   "metadata": {},
   "outputs": [
    {
     "data": {
      "text/plain": [
       "{'Name': 'Asif', 'ID': 12345, 'DOB': 1991, 'Address': 'Mumbai'}"
      ]
     },
     "execution_count": 85,
     "metadata": {},
     "output_type": "execute_result"
    }
   ],
   "source": [
    "mydict['Address'] = 'Mumbai'\n",
    "# Changing the value of key 'Address' in mydict\n",
    "mydict"
   ]
  },
  {
   "cell_type": "code",
   "execution_count": 86,
   "id": "96e42b01",
   "metadata": {},
   "outputs": [
    {
     "data": {
      "text/plain": [
       "{'Name': 'Asif', 'ID': 12345, 'DOB': 1991, 'Address': 'Mumbai'}"
      ]
     },
     "execution_count": 86,
     "metadata": {},
     "output_type": "execute_result"
    }
   ],
   "source": [
    "mydict1\n",
    "# mydict1 will be also impacted as it is pointing to the same dictionary\n",
    "# mydict1 is also changed\n",
    "# mydict1 is a reference to the same dictionary object as mydict"
   ]
  },
  {
   "cell_type": "code",
   "execution_count": 87,
   "id": "d054d64b",
   "metadata": {},
   "outputs": [
    {
     "data": {
      "text/plain": [
       "{'Name': 'Asif', 'ID': 12345, 'DOB': 1991, 'Address': 'Helsinki'}"
      ]
     },
     "execution_count": 87,
     "metadata": {},
     "output_type": "execute_result"
    }
   ],
   "source": [
    "mydict2\n",
    "# Copy of list won't be impacted due to the changes made in the original list\n",
    "# mydict2 is a shallow copy of the dictionary"
   ]
  },
  {
   "cell_type": "markdown",
   "id": "0f8f24bf",
   "metadata": {},
   "source": [
    "## Loop through a Dictionary ##"
   ]
  },
  {
   "cell_type": "code",
   "execution_count": 90,
   "id": "209fd818",
   "metadata": {},
   "outputs": [
    {
     "data": {
      "text/plain": [
       "{'Name': 'Asif',\n",
       " 'ID': 12345,\n",
       " 'DOB': 1991,\n",
       " 'Address': 'Helsinki',\n",
       " 'Job': 'Analyst'}"
      ]
     },
     "execution_count": 90,
     "metadata": {},
     "output_type": "execute_result"
    }
   ],
   "source": [
    "mydict1 = {'Name':'Asif' , 'ID': 12345 , 'DOB': 1991 , 'Address' : 'Helsinki' ,'Job': 'Analyst'} \n",
    "mydict1"
   ]
  },
  {
   "cell_type": "code",
   "execution_count": null,
   "id": "92668b2c",
   "metadata": {},
   "outputs": [
    {
     "name": "stdout",
     "output_type": "stream",
     "text": [
      "Name : Asif\n",
      "ID : 12345\n",
      "DOB : 1991\n",
      "Address : Helsinki\n",
      "Job : Analyst\n"
     ]
    }
   ],
   "source": [
    "for i in mydict1: \n",
    "    print(i , ':' , mydict1[i]) \n",
    "# Key & value pair\n",
    "# Loop through the dictionary"
   ]
  },
  {
   "cell_type": "code",
   "execution_count": 94,
   "id": "515cc5d4",
   "metadata": {},
   "outputs": [
    {
     "name": "stdout",
     "output_type": "stream",
     "text": [
      "Asif\n",
      "12345\n",
      "1991\n",
      "Helsinki\n",
      "Analyst\n"
     ]
    }
   ],
   "source": [
    "for i in mydict1: \n",
    "   print(mydict1[i])\n",
    "# Loop through the dictionary\n",
    "# Dictionary items"
   ]
  },
  {
   "cell_type": "markdown",
   "id": "c8315d16",
   "metadata": {},
   "source": [
    "## Dictionary Membership ##"
   ]
  },
  {
   "cell_type": "code",
   "execution_count": 95,
   "id": "1bbdcd31",
   "metadata": {},
   "outputs": [
    {
     "data": {
      "text/plain": [
       "{'Name': 'Asif', 'ID': 12345, 'DOB': 1991, 'Job': 'Analyst'}"
      ]
     },
     "execution_count": 95,
     "metadata": {},
     "output_type": "execute_result"
    }
   ],
   "source": [
    "mydict1 = {'Name':'Asif' , 'ID': 12345 , 'DOB': 1991 , 'Job': 'Analyst'} \n",
    "mydict1"
   ]
  },
  {
   "cell_type": "code",
   "execution_count": 96,
   "id": "0596ba2e",
   "metadata": {},
   "outputs": [
    {
     "data": {
      "text/plain": [
       "True"
      ]
     },
     "execution_count": 96,
     "metadata": {},
     "output_type": "execute_result"
    }
   ],
   "source": [
    "'Name' in mydict1\n",
    "# Test if a key is in a dictionary or not"
   ]
  },
  {
   "cell_type": "code",
   "execution_count": 97,
   "id": "df524016",
   "metadata": {},
   "outputs": [
    {
     "data": {
      "text/plain": [
       "False"
      ]
     },
     "execution_count": 97,
     "metadata": {},
     "output_type": "execute_result"
    }
   ],
   "source": [
    "'Asif' in mydict1  # Membership test can be only done for keys"
   ]
  },
  {
   "cell_type": "code",
   "execution_count": 98,
   "id": "175bd0af",
   "metadata": {},
   "outputs": [
    {
     "data": {
      "text/plain": [
       "True"
      ]
     },
     "execution_count": 98,
     "metadata": {},
     "output_type": "execute_result"
    }
   ],
   "source": [
    "'ID' in mydict1 "
   ]
  },
  {
   "cell_type": "code",
   "execution_count": 99,
   "id": "2529512e",
   "metadata": {},
   "outputs": [
    {
     "data": {
      "text/plain": [
       "False"
      ]
     },
     "execution_count": 99,
     "metadata": {},
     "output_type": "execute_result"
    }
   ],
   "source": [
    "'Address' in mydict1"
   ]
  },
  {
   "cell_type": "markdown",
   "id": "11b80f3e",
   "metadata": {},
   "source": [
    "## All / Any ## \n",
    "The all() method returns:  \n",
    "- True - If all all keys of the dictionary are true \n",
    "- False - If any key of the dictionary is false \n",
    "- The any() function returns True if any key of the dictionary is True. \n",
    "- If not, any() returns False."
   ]
  },
  {
   "cell_type": "code",
   "execution_count": 100,
   "id": "cc80d22b",
   "metadata": {},
   "outputs": [
    {
     "data": {
      "text/plain": [
       "{'Name': 'Asif', 'ID': 12345, 'DOB': 1991, 'Job': 'Analyst'}"
      ]
     },
     "execution_count": 100,
     "metadata": {},
     "output_type": "execute_result"
    }
   ],
   "source": [
    "mydict1 = {'Name':'Asif' , 'ID': 12345 , 'DOB': 1991 , 'Job': 'Analyst'} \n",
    "mydict1"
   ]
  },
  {
   "cell_type": "code",
   "execution_count": 101,
   "id": "814610c7",
   "metadata": {},
   "outputs": [
    {
     "data": {
      "text/plain": [
       "True"
      ]
     },
     "execution_count": 101,
     "metadata": {},
     "output_type": "execute_result"
    }
   ],
   "source": [
    "all(mydict1) # Will Return false as one value is false (Value 0) "
   ]
  },
  {
   "cell_type": "markdown",
   "id": "0bd9addb",
   "metadata": {},
   "source": [
    "That's the end for today"
   ]
  }
 ],
 "metadata": {
  "kernelspec": {
   "display_name": "base",
   "language": "python",
   "name": "python3"
  },
  "language_info": {
   "codemirror_mode": {
    "name": "ipython",
    "version": 3
   },
   "file_extension": ".py",
   "mimetype": "text/x-python",
   "name": "python",
   "nbconvert_exporter": "python",
   "pygments_lexer": "ipython3",
   "version": "3.12.7"
  }
 },
 "nbformat": 4,
 "nbformat_minor": 5
}
