{
 "cells": [
  {
   "cell_type": "code",
   "execution_count": 1,
   "id": "3c38bb83",
   "metadata": {},
   "outputs": [
    {
     "data": {
      "text/plain": [
       "True"
      ]
     },
     "execution_count": 1,
     "metadata": {},
     "output_type": "execute_result"
    }
   ],
   "source": [
    "True"
   ]
  },
  {
   "cell_type": "code",
   "execution_count": 2,
   "id": "14b7ce7b",
   "metadata": {},
   "outputs": [
    {
     "ename": "NameError",
     "evalue": "name 'true' is not defined",
     "output_type": "error",
     "traceback": [
      "\u001b[1;31m---------------------------------------------------------------------------\u001b[0m",
      "\u001b[1;31mNameError\u001b[0m                                 Traceback (most recent call last)",
      "Cell \u001b[1;32mIn[2], line 1\u001b[0m\n\u001b[1;32m----> 1\u001b[0m true\n",
      "\u001b[1;31mNameError\u001b[0m: name 'true' is not defined"
     ]
    }
   ],
   "source": [
    "true"
   ]
  },
  {
   "cell_type": "code",
   "execution_count": 3,
   "id": "c0d431d1",
   "metadata": {},
   "outputs": [
    {
     "ename": "NameError",
     "evalue": "name 'false' is not defined",
     "output_type": "error",
     "traceback": [
      "\u001b[1;31m---------------------------------------------------------------------------\u001b[0m",
      "\u001b[1;31mNameError\u001b[0m                                 Traceback (most recent call last)",
      "Cell \u001b[1;32mIn[3], line 1\u001b[0m\n\u001b[1;32m----> 1\u001b[0m false\n",
      "\u001b[1;31mNameError\u001b[0m: name 'false' is not defined"
     ]
    }
   ],
   "source": [
    "false"
   ]
  },
  {
   "cell_type": "code",
   "execution_count": 4,
   "id": "19b59695",
   "metadata": {},
   "outputs": [
    {
     "data": {
      "text/plain": [
       "False"
      ]
     },
     "execution_count": 4,
     "metadata": {},
     "output_type": "execute_result"
    }
   ],
   "source": [
    "False"
   ]
  },
  {
   "cell_type": "code",
   "execution_count": 5,
   "id": "0619ea9a",
   "metadata": {},
   "outputs": [],
   "source": [
    "b = True\n",
    "b1 = False"
   ]
  },
  {
   "cell_type": "code",
   "execution_count": 6,
   "id": "5cee5576",
   "metadata": {},
   "outputs": [
    {
     "data": {
      "text/plain": [
       "True"
      ]
     },
     "execution_count": 6,
     "metadata": {},
     "output_type": "execute_result"
    }
   ],
   "source": [
    "b"
   ]
  },
  {
   "cell_type": "code",
   "execution_count": 7,
   "id": "df2b4ef3",
   "metadata": {},
   "outputs": [
    {
     "data": {
      "text/plain": [
       "False"
      ]
     },
     "execution_count": 7,
     "metadata": {},
     "output_type": "execute_result"
    }
   ],
   "source": [
    "b1"
   ]
  },
  {
   "cell_type": "code",
   "execution_count": 8,
   "id": "622c601c",
   "metadata": {},
   "outputs": [
    {
     "data": {
      "text/plain": [
       "1"
      ]
     },
     "execution_count": 8,
     "metadata": {},
     "output_type": "execute_result"
    }
   ],
   "source": [
    "b + b1"
   ]
  },
  {
   "cell_type": "code",
   "execution_count": 9,
   "id": "1a89fd82",
   "metadata": {},
   "outputs": [
    {
     "name": "stdout",
     "output_type": "stream",
     "text": [
      "1\n",
      "0\n",
      "0.0\n",
      "0\n"
     ]
    }
   ],
   "source": [
    "print(b-b1)\n",
    "print(b*b1)\n",
    "print(b1/b) # float division \n",
    "print(b1//b) # int division "
   ]
  },
  {
   "cell_type": "code",
   "execution_count": 10,
   "id": "4d19317e",
   "metadata": {},
   "outputs": [],
   "source": [
    "# These are boolean variables: 0 and 1 only"
   ]
  },
  {
   "cell_type": "code",
   "execution_count": 11,
   "id": "12b13be8",
   "metadata": {},
   "outputs": [
    {
     "data": {
      "text/plain": [
       "False"
      ]
     },
     "execution_count": 11,
     "metadata": {},
     "output_type": "execute_result"
    }
   ],
   "source": [
    "b1"
   ]
  },
  {
   "cell_type": "code",
   "execution_count": 12,
   "id": "3a38d17f",
   "metadata": {},
   "outputs": [
    {
     "data": {
      "text/plain": [
       "bool"
      ]
     },
     "execution_count": 12,
     "metadata": {},
     "output_type": "execute_result"
    }
   ],
   "source": [
    "type(b1)"
   ]
  },
  {
   "cell_type": "code",
   "execution_count": 13,
   "id": "c4aa0e6d",
   "metadata": {},
   "outputs": [
    {
     "data": {
      "text/plain": [
       "bool"
      ]
     },
     "execution_count": 13,
     "metadata": {},
     "output_type": "execute_result"
    }
   ],
   "source": [
    "type(b)"
   ]
  },
  {
   "cell_type": "markdown",
   "id": "4e8e9778",
   "metadata": {},
   "source": [
    "# complex -- dataype we can use more math operation -- nasa, isro, robo \n",
    "a + bj has three parts:\n",
    "- a - real part \n",
    "- b - imaginary part\n",
    "- j - square root of -1"
   ]
  },
  {
   "cell_type": "code",
   "execution_count": 14,
   "id": "38af13e4",
   "metadata": {},
   "outputs": [
    {
     "data": {
      "text/plain": [
       "(10+20j)"
      ]
     },
     "execution_count": 14,
     "metadata": {},
     "output_type": "execute_result"
    }
   ],
   "source": [
    "c1 = 10 + 20j\n",
    "c1"
   ]
  },
  {
   "cell_type": "code",
   "execution_count": 15,
   "id": "d9b263a3",
   "metadata": {},
   "outputs": [
    {
     "data": {
      "text/plain": [
       "complex"
      ]
     },
     "execution_count": 15,
     "metadata": {},
     "output_type": "execute_result"
    }
   ],
   "source": [
    "type(c1)"
   ]
  },
  {
   "cell_type": "code",
   "execution_count": 16,
   "id": "b25755fc",
   "metadata": {},
   "outputs": [
    {
     "data": {
      "text/plain": [
       "10.0"
      ]
     },
     "execution_count": 16,
     "metadata": {},
     "output_type": "execute_result"
    }
   ],
   "source": [
    "c1.real # to get real part"
   ]
  },
  {
   "cell_type": "code",
   "execution_count": 17,
   "id": "1ce60d28",
   "metadata": {},
   "outputs": [
    {
     "data": {
      "text/plain": [
       "20.0"
      ]
     },
     "execution_count": 17,
     "metadata": {},
     "output_type": "execute_result"
    }
   ],
   "source": [
    "c1.imag # to get imaginary part"
   ]
  },
  {
   "cell_type": "code",
   "execution_count": 18,
   "id": "97c05ad4",
   "metadata": {},
   "outputs": [
    {
     "data": {
      "text/plain": [
       "(3+5j)"
      ]
     },
     "execution_count": 18,
     "metadata": {},
     "output_type": "execute_result"
    }
   ],
   "source": [
    "c2 = 3 + 5J\n",
    "c2"
   ]
  },
  {
   "cell_type": "code",
   "execution_count": 20,
   "id": "0b46f913",
   "metadata": {},
   "outputs": [
    {
     "name": "stdout",
     "output_type": "stream",
     "text": [
      "(10+20j)\n",
      "(3+5j)\n"
     ]
    }
   ],
   "source": [
    "print(c1)\n",
    "print(c2)"
   ]
  },
  {
   "cell_type": "code",
   "execution_count": 21,
   "id": "40fefaa9",
   "metadata": {},
   "outputs": [
    {
     "data": {
      "text/plain": [
       "(13+25j)"
      ]
     },
     "execution_count": 21,
     "metadata": {},
     "output_type": "execute_result"
    }
   ],
   "source": [
    "c1 + c2"
   ]
  },
  {
   "cell_type": "markdown",
   "id": "a417a4e9",
   "metadata": {},
   "source": [
    "# Python data types # \n",
    "TYPE CASTING OR TYPE CONVERSION"
   ]
  },
  {
   "cell_type": "code",
   "execution_count": 22,
   "id": "d9b57c3f",
   "metadata": {},
   "outputs": [
    {
     "data": {
      "text/plain": [
       "3"
      ]
     },
     "execution_count": 22,
     "metadata": {},
     "output_type": "execute_result"
    }
   ],
   "source": [
    "int(3.4) #float to int"
   ]
  },
  {
   "cell_type": "code",
   "execution_count": 23,
   "id": "6ec29cca",
   "metadata": {},
   "outputs": [
    {
     "ename": "TypeError",
     "evalue": "'float' object cannot be interpreted as an integer",
     "output_type": "error",
     "traceback": [
      "\u001b[1;31m---------------------------------------------------------------------------\u001b[0m",
      "\u001b[1;31mTypeError\u001b[0m                                 Traceback (most recent call last)",
      "Cell \u001b[1;32mIn[23], line 1\u001b[0m\n\u001b[1;32m----> 1\u001b[0m \u001b[38;5;28mint\u001b[39m(\u001b[38;5;241m3.4\u001b[39m, \u001b[38;5;241m5.7\u001b[39m)\n",
      "\u001b[1;31mTypeError\u001b[0m: 'float' object cannot be interpreted as an integer"
     ]
    }
   ],
   "source": [
    "int(3.4, 5.7) # error because there are more than 1 float"
   ]
  },
  {
   "cell_type": "code",
   "execution_count": null,
   "id": "79e5f16a",
   "metadata": {},
   "outputs": [
    {
     "data": {
      "text/plain": [
       "1"
      ]
     },
     "execution_count": 24,
     "metadata": {},
     "output_type": "execute_result"
    }
   ],
   "source": [
    "int(True) #bool to int is possible "
   ]
  },
  {
   "cell_type": "code",
   "execution_count": 25,
   "id": "ad963d96",
   "metadata": {},
   "outputs": [
    {
     "ename": "TypeError",
     "evalue": "int() can't convert non-string with explicit base",
     "output_type": "error",
     "traceback": [
      "\u001b[1;31m---------------------------------------------------------------------------\u001b[0m",
      "\u001b[1;31mTypeError\u001b[0m                                 Traceback (most recent call last)",
      "Cell \u001b[1;32mIn[25], line 1\u001b[0m\n\u001b[1;32m----> 1\u001b[0m \u001b[38;5;28mint\u001b[39m(\u001b[38;5;28;01mTrue\u001b[39;00m, \u001b[38;5;28;01mFalse\u001b[39;00m)\n",
      "\u001b[1;31mTypeError\u001b[0m: int() can't convert non-string with explicit base"
     ]
    }
   ],
   "source": [
    "int(True, False) # error because there are more than 1 bool"
   ]
  },
  {
   "cell_type": "code",
   "execution_count": 26,
   "id": "bce9204b",
   "metadata": {},
   "outputs": [
    {
     "data": {
      "text/plain": [
       "0"
      ]
     },
     "execution_count": 26,
     "metadata": {},
     "output_type": "execute_result"
    }
   ],
   "source": [
    "int(False) #bool to int is possible"
   ]
  },
  {
   "cell_type": "code",
   "execution_count": 27,
   "id": "87951c78",
   "metadata": {},
   "outputs": [
    {
     "name": "stdout",
     "output_type": "stream",
     "text": [
      "3\n",
      "1\n",
      "10\n"
     ]
    }
   ],
   "source": [
    "print(int(3.4))\n",
    "print(int(True))\n",
    "print(int('10'))"
   ]
  },
  {
   "cell_type": "code",
   "execution_count": 30,
   "id": "73130251",
   "metadata": {},
   "outputs": [
    {
     "ename": "TypeError",
     "evalue": "int() argument must be a string, a bytes-like object or a real number, not 'complex'",
     "output_type": "error",
     "traceback": [
      "\u001b[1;31m---------------------------------------------------------------------------\u001b[0m",
      "\u001b[1;31mTypeError\u001b[0m                                 Traceback (most recent call last)",
      "Cell \u001b[1;32mIn[30], line 1\u001b[0m\n\u001b[1;32m----> 1\u001b[0m \u001b[38;5;28mprint\u001b[39m(\u001b[38;5;28mint\u001b[39m(\u001b[38;5;241m10\u001b[39m\u001b[38;5;241m+\u001b[39m\u001b[38;5;241m20\u001b[39mj))\n",
      "\u001b[1;31mTypeError\u001b[0m: int() argument must be a string, a bytes-like object or a real number, not 'complex'"
     ]
    }
   ],
   "source": [
    "print(int(10+20j)) # error because complex number cannot be converted to int"
   ]
  },
  {
   "cell_type": "code",
   "execution_count": 31,
   "id": "a7f7dc53",
   "metadata": {},
   "outputs": [
    {
     "ename": "ValueError",
     "evalue": "invalid literal for int() with base 10: 'ten'",
     "output_type": "error",
     "traceback": [
      "\u001b[1;31m---------------------------------------------------------------------------\u001b[0m",
      "\u001b[1;31mValueError\u001b[0m                                Traceback (most recent call last)",
      "Cell \u001b[1;32mIn[31], line 1\u001b[0m\n\u001b[1;32m----> 1\u001b[0m \u001b[38;5;28mint\u001b[39m(\u001b[38;5;124m'\u001b[39m\u001b[38;5;124mten\u001b[39m\u001b[38;5;124m'\u001b[39m)\n",
      "\u001b[1;31mValueError\u001b[0m: invalid literal for int() with base 10: 'ten'"
     ]
    }
   ],
   "source": [
    "int('ten') # error because 'ten' is not a number\n",
    "# from all other datatype to int typecasting completed \n",
    "# complex & string with text is not allowed"
   ]
  },
  {
   "cell_type": "code",
   "execution_count": 34,
   "id": "145b45e1",
   "metadata": {},
   "outputs": [],
   "source": [
    "#Complete datatype. \n",
    "#In Python, the complex type is used to represent complex numbers, which consist of a real and an imaginary part. \n",
    "#You can create complex numbers and perform mathematical operations on them using the built-in support for complex numbers."
   ]
  },
  {
   "cell_type": "code",
   "execution_count": 39,
   "id": "76c4eed4",
   "metadata": {},
   "outputs": [
    {
     "data": {
      "text/plain": [
       "(3+4j)"
      ]
     },
     "execution_count": 39,
     "metadata": {},
     "output_type": "execute_result"
    }
   ],
   "source": [
    "z = 3 + 4j\n",
    "z\n",
    "# it is created by appending the letter j (or J) to the imaginary part\n",
    "# Here, 3 is the real part, and 4j is the imaginary part."
   ]
  },
  {
   "cell_type": "code",
   "execution_count": 37,
   "id": "d82f8d46",
   "metadata": {},
   "outputs": [
    {
     "data": {
      "text/plain": [
       "complex"
      ]
     },
     "execution_count": 37,
     "metadata": {},
     "output_type": "execute_result"
    }
   ],
   "source": [
    "type(z) # check the type of z"
   ]
  },
  {
   "cell_type": "code",
   "execution_count": 40,
   "id": "2d67f2b2",
   "metadata": {},
   "outputs": [
    {
     "data": {
      "text/plain": [
       "3.0"
      ]
     },
     "execution_count": 40,
     "metadata": {},
     "output_type": "execute_result"
    }
   ],
   "source": [
    "# the .real and .imag attributes are used to access the real and imaginary parts of a complex number, respectively.\n",
    "z.real # get the real part of z"
   ]
  },
  {
   "cell_type": "code",
   "execution_count": 41,
   "id": "d0d5bb3d",
   "metadata": {},
   "outputs": [
    {
     "data": {
      "text/plain": [
       "4.0"
      ]
     },
     "execution_count": 41,
     "metadata": {},
     "output_type": "execute_result"
    }
   ],
   "source": [
    "z.imag # get the imaginary part of z"
   ]
  },
  {
   "cell_type": "code",
   "execution_count": 43,
   "id": "d7d46a24",
   "metadata": {},
   "outputs": [
    {
     "name": "stdout",
     "output_type": "stream",
     "text": [
      "(4+6j)\n"
     ]
    }
   ],
   "source": [
    "# You can perform various operations like addition, subtraction, multiplication, division, and more with complex numbers. Python handles these operations automatically. \n",
    "a = 3 + 4j\n",
    "b = 1 + 2j\n",
    "print(a + b) # addition"
   ]
  },
  {
   "cell_type": "code",
   "execution_count": 45,
   "id": "a67ab935",
   "metadata": {},
   "outputs": [
    {
     "name": "stdout",
     "output_type": "stream",
     "text": [
      "(2+2j)\n"
     ]
    }
   ],
   "source": [
    "print(a - b) # subtraction"
   ]
  },
  {
   "cell_type": "code",
   "execution_count": 46,
   "id": "07bd62f8",
   "metadata": {},
   "outputs": [
    {
     "name": "stdout",
     "output_type": "stream",
     "text": [
      "(-5+10j)\n"
     ]
    }
   ],
   "source": [
    "print(a * b) # multiplication"
   ]
  },
  {
   "cell_type": "code",
   "execution_count": 47,
   "id": "f770e170",
   "metadata": {},
   "outputs": [
    {
     "name": "stdout",
     "output_type": "stream",
     "text": [
      "(2.2-0.4j)\n"
     ]
    }
   ],
   "source": [
    "print(a / b) # division"
   ]
  },
  {
   "cell_type": "code",
   "execution_count": 49,
   "id": "e9d2db0c",
   "metadata": {},
   "outputs": [
    {
     "name": "stdout",
     "output_type": "stream",
     "text": [
      "5.0\n",
      "(3-4j)\n"
     ]
    }
   ],
   "source": [
    "#Using Built-in Functions: Python provides several functions to work with complex numbers, such as: \n",
    "# abs(z): Returns the magnitude (absolute value) of the complex number. \n",
    "# conj(z): Returns the complex conjugate of the number.\n",
    "z = 3 + 4j\n",
    "print(abs(z)) # magnitude of z\n",
    "print(z.conjugate()) # complex conjugate of z\n",
    "\n"
   ]
  },
  {
   "cell_type": "code",
   "execution_count": 52,
   "id": "05a0d89a",
   "metadata": {},
   "outputs": [
    {
     "name": "stdout",
     "output_type": "stream",
     "text": [
      "(1.2984575814159773+0.6349639147847361j)\n",
      "(0.8337300251311491-0.9888977057628651j)\n",
      "(1.4686939399158851+2.2873552871788423j)\n",
      "(0.34657359027997264+0.7853981633974483j)\n",
      "(1.09868411346781+0.45508986056222733j)\n",
      "0.7853981633974483\n",
      "(1.4142135623730951, 0.7853981633974483)\n",
      "(0.7071067811865476+0.7071067811865476j)\n",
      "True\n",
      "True\n",
      "False\n"
     ]
    }
   ],
   "source": [
    "# Complex Number in the cmath Module \n",
    "# The cmath module provides additional functions for complex numbers, including trigonometric and exponential functions, logarithms, square roots and more.\n",
    "import cmath\n",
    "z = 1 + 1j\n",
    "print(cmath.sin(z)) # sine of z\n",
    "print(cmath.cos(z)) # cosine of z\n",
    "print(cmath.exp(z)) # exponential of z  \n",
    "print(cmath.log(z)) # natural logarithm of z\n",
    "print(cmath.sqrt(z)) # square root of z\n",
    "print(cmath.phase(z)) # phase angle of z\n",
    "print(cmath.polar(z)) # polar coordinates of z\n",
    "print(cmath.rect(1, cmath.pi/4)) # rectangular coordinates from polar coordinates\n",
    "print(cmath.isclose(z, 1 + 1j)) # check if two complex numbers are close\n",
    "print(cmath.isfinite(z)) # check if z is finite\n",
    "print(cmath.isinf(z)) # check if z is infinite\n",
    "\n",
    "\n",
    "\n"
   ]
  },
  {
   "cell_type": "code",
   "execution_count": 4,
   "id": "253eafae",
   "metadata": {},
   "outputs": [
    {
     "name": "stdout",
     "output_type": "stream",
     "text": [
      "10\n",
      "<class 'int'>\n",
      "28\n",
      "10  is Integer? True\n"
     ]
    }
   ],
   "source": [
    "# Numeric variables\n",
    "import sys\n",
    "\n",
    "\n",
    "val1 = 10  # Integer data type \n",
    "print(val1) \n",
    "print(type(val1)) # type of object \n",
    "print(sys.getsizeof(val1)) # size of integer object in bytes \n",
    "print(val1, \" is Integer?\", isinstance(val1, int)) # val1 is an instance of int \n",
    "# Note the import sys at the beginning otherwise, error"
   ]
  },
  {
   "cell_type": "code",
   "execution_count": 3,
   "id": "114fb563",
   "metadata": {},
   "outputs": [
    {
     "name": "stdout",
     "output_type": "stream",
     "text": [
      "92.78\n",
      "<class 'float'>\n",
      "24\n",
      "92.78  is float? True\n"
     ]
    }
   ],
   "source": [
    "val2 = 92.78 # Float data type \n",
    "print(val2) \n",
    "print(type(val2)) # type of object \n",
    "print(sys.getsizeof(val2)) # size of float object in bytes \n",
    "print(val2, \" is float?\", isinstance(val2, float)) # Val2 is an instance of float"
   ]
  },
  {
   "cell_type": "code",
   "execution_count": 5,
   "id": "9bfae423",
   "metadata": {},
   "outputs": [
    {
     "name": "stdout",
     "output_type": "stream",
     "text": [
      "(25+10j)\n",
      "<class 'complex'>\n",
      "32\n",
      "(25+10j)  is complex? True\n"
     ]
    }
   ],
   "source": [
    "val3 = 25 + 10j # Complex data type \n",
    "print(val3) \n",
    "print(type(val3)) # type of object \n",
    "print(sys.getsizeof(val3)) # size of float object in bytes \n",
    "print(val3, \" is complex?\", isinstance(val3, complex)) # val3 is an instance of complex "
   ]
  },
  {
   "cell_type": "code",
   "execution_count": 6,
   "id": "e27b17fc",
   "metadata": {},
   "outputs": [
    {
     "data": {
      "text/plain": [
       "28"
      ]
     },
     "execution_count": 6,
     "metadata": {},
     "output_type": "execute_result"
    }
   ],
   "source": [
    "sys.getsizeof(int()) # size of integer object in bytes"
   ]
  },
  {
   "cell_type": "code",
   "execution_count": 7,
   "id": "122be098",
   "metadata": {},
   "outputs": [
    {
     "data": {
      "text/plain": [
       "24"
      ]
     },
     "execution_count": 7,
     "metadata": {},
     "output_type": "execute_result"
    }
   ],
   "source": [
    "sys.getsizeof(float())  # size of float object in bytes "
   ]
  },
  {
   "cell_type": "code",
   "execution_count": 8,
   "id": "f45f2ad1",
   "metadata": {},
   "outputs": [
    {
     "data": {
      "text/plain": [
       "32"
      ]
     },
     "execution_count": 8,
     "metadata": {},
     "output_type": "execute_result"
    }
   ],
   "source": [
    "sys.getsizeof(complex()) # size of complex object in bytes"
   ]
  },
  {
   "cell_type": "code",
   "execution_count": 9,
   "id": "7732e3e6",
   "metadata": {},
   "outputs": [
    {
     "name": "stdout",
     "output_type": "stream",
     "text": [
      "<class 'bool'>\n",
      "<class 'bool'>\n",
      "28\n"
     ]
    },
    {
     "data": {
      "text/plain": [
       "True"
      ]
     },
     "execution_count": 9,
     "metadata": {},
     "output_type": "execute_result"
    }
   ],
   "source": [
    "# Boolean \n",
    "# Boolean data type can have only two possible values true or false\n",
    "bool1 = True\n",
    "bool2 = False\n",
    "print(type(bool1)) # type of object\n",
    "print(type(bool2)) # type of object\n",
    "print(sys.getsizeof(bool1)) # size of boolean object in bytes\n",
    "isinstance(bool1, bool) # bool1 is an instance of bool\n",
    "isinstance(bool2, bool) # bool2 is an instance of bool\n",
    "# Note: In Python, the boolean type is a subclass of integers"
   ]
  },
  {
   "cell_type": "code",
   "execution_count": 10,
   "id": "0cd50b35",
   "metadata": {},
   "outputs": [
    {
     "data": {
      "text/plain": [
       "False"
      ]
     },
     "execution_count": 10,
     "metadata": {},
     "output_type": "execute_result"
    }
   ],
   "source": [
    "bool(0) # 0 is false"
   ]
  },
  {
   "cell_type": "code",
   "execution_count": 11,
   "id": "81ec9ff4",
   "metadata": {},
   "outputs": [
    {
     "data": {
      "text/plain": [
       "False"
      ]
     },
     "execution_count": 11,
     "metadata": {},
     "output_type": "execute_result"
    }
   ],
   "source": [
    "bool(None) \n",
    "bool (False) \n",
    "bool('') # empty string is false"
   ]
  },
  {
   "cell_type": "markdown",
   "id": "a8c73a56",
   "metadata": {},
   "source": [
    "# More practice on strings #"
   ]
  },
  {
   "cell_type": "code",
   "execution_count": 2,
   "id": "c74ba2ac",
   "metadata": {},
   "outputs": [
    {
     "name": "stdout",
     "output_type": "stream",
     "text": [
      "HELLO PYTHON\n",
      "Hello World\n",
      "Hello World\n",
      "Hello \n",
      "        World \n",
      "Hello \n",
      "           World\n",
      "Happy Monday Everyone\n",
      "Woohoo Woohoo Woohoo Woohoo Woohoo \n"
     ]
    },
    {
     "data": {
      "text/plain": [
       "35"
      ]
     },
     "execution_count": 2,
     "metadata": {},
     "output_type": "execute_result"
    }
   ],
   "source": [
    "\n",
    "# String creation\n",
    "str1 = \"HELLO PYTHON\"\n",
    "print(str1)\n",
    "mystr = 'Hello World' # Define string using single quotes \n",
    "print(mystr)\n",
    "mystr = \"Hello World\" # Define string using double quotes \n",
    "print(mystr)\n",
    "mystr = '''Hello \n",
    "        World ''' # Define string using triple quotes \n",
    "print(mystr)\n",
    "mystr = \"\"\"Hello \n",
    "           World\"\"\"  # Define string using triple quotes \n",
    "print(mystr)\n",
    "mystr = ('Happy ' \n",
    "'Monday ' \n",
    "'Everyone') \n",
    "print(mystr)\n",
    "mystr2 = 'Woohoo ' \n",
    "mystr2 = mystr2*5 \n",
    "print(mystr2)\n",
    "len(mystr2) # Length of string"
   ]
  },
  {
   "cell_type": "code",
   "execution_count": 3,
   "id": "18350183",
   "metadata": {},
   "outputs": [
    {
     "data": {
      "text/plain": [
       "'HELLO PYTHON'"
      ]
     },
     "execution_count": 3,
     "metadata": {},
     "output_type": "execute_result"
    }
   ],
   "source": [
    "# String Indexing : backward and forward indexing\n",
    "str1 \n"
   ]
  },
  {
   "cell_type": "code",
   "execution_count": 4,
   "id": "9f770d60",
   "metadata": {},
   "outputs": [
    {
     "data": {
      "text/plain": [
       "'H'"
      ]
     },
     "execution_count": 4,
     "metadata": {},
     "output_type": "execute_result"
    }
   ],
   "source": [
    "str1[0] # First character in string \"str1\""
   ]
  },
  {
   "cell_type": "code",
   "execution_count": 5,
   "id": "10ca246b",
   "metadata": {},
   "outputs": [
    {
     "data": {
      "text/plain": [
       "'N'"
      ]
     },
     "execution_count": 5,
     "metadata": {},
     "output_type": "execute_result"
    }
   ],
   "source": [
    "str1[len(str1)-1] # Last character in string using len function"
   ]
  },
  {
   "cell_type": "code",
   "execution_count": 6,
   "id": "eff85532",
   "metadata": {},
   "outputs": [
    {
     "data": {
      "text/plain": [
       "'N'"
      ]
     },
     "execution_count": 6,
     "metadata": {},
     "output_type": "execute_result"
    }
   ],
   "source": [
    "str1[-1] # Last character in string"
   ]
  },
  {
   "cell_type": "code",
   "execution_count": 7,
   "id": "c15d7c65",
   "metadata": {},
   "outputs": [
    {
     "data": {
      "text/plain": [
       "'P'"
      ]
     },
     "execution_count": 7,
     "metadata": {},
     "output_type": "execute_result"
    }
   ],
   "source": [
    "str1[6] #Fetch 7th element of the string"
   ]
  },
  {
   "cell_type": "code",
   "execution_count": 8,
   "id": "90010c36",
   "metadata": {},
   "outputs": [
    {
     "data": {
      "text/plain": [
       "' '"
      ]
     },
     "execution_count": 8,
     "metadata": {},
     "output_type": "execute_result"
    }
   ],
   "source": [
    "str1[5]"
   ]
  },
  {
   "cell_type": "code",
   "execution_count": 9,
   "id": "6e69b3ac",
   "metadata": {},
   "outputs": [
    {
     "data": {
      "text/plain": [
       "'HELLO'"
      ]
     },
     "execution_count": 9,
     "metadata": {},
     "output_type": "execute_result"
    }
   ],
   "source": [
    "#String Slicing\n",
    "str1[0:5] # String slicing - Fetch all characters from 0 to 5 index location exclusive"
   ]
  },
  {
   "cell_type": "code",
   "execution_count": 12,
   "id": "f45d22bc",
   "metadata": {},
   "outputs": [
    {
     "data": {
      "text/plain": [
       "'PYTHON'"
      ]
     },
     "execution_count": 12,
     "metadata": {},
     "output_type": "execute_result"
    }
   ],
   "source": [
    "str1[6:12] # String slicing - Retreive all characters between 6 - 12 index loc exclusive\n"
   ]
  },
  {
   "cell_type": "code",
   "execution_count": 13,
   "id": "b799988d",
   "metadata": {},
   "outputs": [
    {
     "data": {
      "text/plain": [
       "'THON'"
      ]
     },
     "execution_count": 13,
     "metadata": {},
     "output_type": "execute_result"
    }
   ],
   "source": [
    "str1[-4:] # Retrieve last four characters of the string"
   ]
  },
  {
   "cell_type": "code",
   "execution_count": 14,
   "id": "210eb84a",
   "metadata": {},
   "outputs": [
    {
     "data": {
      "text/plain": [
       "'PYTHON'"
      ]
     },
     "execution_count": 14,
     "metadata": {},
     "output_type": "execute_result"
    }
   ],
   "source": [
    "str1[-6:] # Retrieve last six characters of the string"
   ]
  },
  {
   "cell_type": "code",
   "execution_count": 15,
   "id": "ebb0901e",
   "metadata": {},
   "outputs": [
    {
     "data": {
      "text/plain": [
       "'HELL'"
      ]
     },
     "execution_count": 15,
     "metadata": {},
     "output_type": "execute_result"
    }
   ],
   "source": [
    "str1[:4] # Retrieve first four characters of the string"
   ]
  },
  {
   "cell_type": "code",
   "execution_count": 16,
   "id": "350b7e0a",
   "metadata": {},
   "outputs": [
    {
     "data": {
      "text/plain": [
       "'HELLO '"
      ]
     },
     "execution_count": 16,
     "metadata": {},
     "output_type": "execute_result"
    }
   ],
   "source": [
    "str1[:6] # Retrieve first six characters of the string"
   ]
  },
  {
   "cell_type": "code",
   "execution_count": 17,
   "id": "b1dda4e6",
   "metadata": {},
   "outputs": [
    {
     "data": {
      "text/plain": [
       "'HELLO PYTHON'"
      ]
     },
     "execution_count": 17,
     "metadata": {},
     "output_type": "execute_result"
    }
   ],
   "source": [
    "#Update & Delete String\n",
    "str1"
   ]
  },
  {
   "cell_type": "code",
   "execution_count": 18,
   "id": "9f91a6ca",
   "metadata": {},
   "outputs": [
    {
     "ename": "TypeError",
     "evalue": "'str' object does not support item assignment",
     "output_type": "error",
     "traceback": [
      "\u001b[1;31m---------------------------------------------------------------------------\u001b[0m",
      "\u001b[1;31mTypeError\u001b[0m                                 Traceback (most recent call last)",
      "Cell \u001b[1;32mIn[18], line 2\u001b[0m\n\u001b[0;32m      1\u001b[0m \u001b[38;5;66;03m# Strings are immutable which means elements of a string cannot be changed once they have been assigned \u001b[39;00m\n\u001b[1;32m----> 2\u001b[0m str1[\u001b[38;5;241m0\u001b[39m:\u001b[38;5;241m5\u001b[39m] \u001b[38;5;241m=\u001b[39m \u001b[38;5;124m'\u001b[39m\u001b[38;5;124mHOLAA\u001b[39m\u001b[38;5;124m'\u001b[39m\n",
      "\u001b[1;31mTypeError\u001b[0m: 'str' object does not support item assignment"
     ]
    }
   ],
   "source": [
    "# Strings are immutable which means elements of a string cannot be changed once they have been assigned \n",
    "str1[0:5] = 'HOLAA'"
   ]
  },
  {
   "cell_type": "code",
   "execution_count": 19,
   "id": "a03ffd75",
   "metadata": {},
   "outputs": [
    {
     "ename": "NameError",
     "evalue": "name 'srt1' is not defined",
     "output_type": "error",
     "traceback": [
      "\u001b[1;31m---------------------------------------------------------------------------\u001b[0m",
      "\u001b[1;31mNameError\u001b[0m                                 Traceback (most recent call last)",
      "Cell \u001b[1;32mIn[19], line 2\u001b[0m\n\u001b[0;32m      1\u001b[0m \u001b[38;5;28;01mdel\u001b[39;00m str1 \u001b[38;5;66;03m# Delete a string \u001b[39;00m\n\u001b[1;32m----> 2\u001b[0m \u001b[38;5;28mprint\u001b[39m(srt1)\n",
      "\u001b[1;31mNameError\u001b[0m: name 'srt1' is not defined"
     ]
    }
   ],
   "source": [
    "del str1 # Delete a string \n",
    "print(srt1) # Error because str1 is deleted"
   ]
  },
  {
   "cell_type": "code",
   "execution_count": 24,
   "id": "8f38c41c",
   "metadata": {},
   "outputs": [
    {
     "name": "stdout",
     "output_type": "stream",
     "text": [
      "HelloAsif\n"
     ]
    }
   ],
   "source": [
    "# String concatenation \n",
    "s1 = \"Hello\" \n",
    "s2 = \"Asif\" \n",
    "s3 = s1 +  s2 \n",
    "print(s3) # Concatenate two strings"
   ]
  },
  {
   "cell_type": "code",
   "execution_count": null,
   "id": "25046d7b",
   "metadata": {},
   "outputs": [],
   "source": []
  }
 ],
 "metadata": {
  "kernelspec": {
   "display_name": "base",
   "language": "python",
   "name": "python3"
  },
  "language_info": {
   "codemirror_mode": {
    "name": "ipython",
    "version": 3
   },
   "file_extension": ".py",
   "mimetype": "text/x-python",
   "name": "python",
   "nbconvert_exporter": "python",
   "pygments_lexer": "ipython3",
   "version": "3.12.7"
  }
 },
 "nbformat": 4,
 "nbformat_minor": 5
}
