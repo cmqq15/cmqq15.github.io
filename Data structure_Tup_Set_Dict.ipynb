{
 "cells": [
  {
   "cell_type": "markdown",
   "id": "308b3104",
   "metadata": {},
   "source": [
    "# **DATA STRUCTURE: Tuple, Set and Dict**"
   ]
  },
  {
   "cell_type": "markdown",
   "id": "ef827b14",
   "metadata": {},
   "source": [
    "## **TUPLE**"
   ]
  },
  {
   "cell_type": "code",
   "execution_count": 61,
   "id": "05df5740",
   "metadata": {},
   "outputs": [
    {
     "data": {
      "text/plain": [
       "(15, 25, 35)"
      ]
     },
     "execution_count": 61,
     "metadata": {},
     "output_type": "execute_result"
    }
   ],
   "source": [
    "# TUPLE TUPLE TUPLE\n",
    "tup = (15,25,35) # tuple is immutable\n",
    "tup"
   ]
  },
  {
   "cell_type": "code",
   "execution_count": 62,
   "id": "669b68b0",
   "metadata": {},
   "outputs": [
    {
     "data": {
      "text/plain": [
       "15"
      ]
     },
     "execution_count": 62,
     "metadata": {},
     "output_type": "execute_result"
    }
   ],
   "source": [
    "tup[0] # first element"
   ]
  },
  {
   "cell_type": "code",
   "execution_count": 63,
   "id": "facf5354",
   "metadata": {},
   "outputs": [
    {
     "data": {
      "text/plain": [
       "35"
      ]
     },
     "execution_count": 63,
     "metadata": {},
     "output_type": "execute_result"
    }
   ],
   "source": [
    "tup[2] # last element"
   ]
  },
  {
   "cell_type": "code",
   "execution_count": 64,
   "id": "2c27adb2",
   "metadata": {},
   "outputs": [
    {
     "data": {
      "text/plain": [
       "3"
      ]
     },
     "execution_count": 64,
     "metadata": {},
     "output_type": "execute_result"
    }
   ],
   "source": [
    "len(tup) # length of the tuple"
   ]
  },
  {
   "cell_type": "code",
   "execution_count": 65,
   "id": "391b5960",
   "metadata": {},
   "outputs": [],
   "source": [
    "# As we are unable to change any value or parameter in tuple so iteration very faster in tuple compare to list\n",
    "# tuple is immutable\n",
    "# tuple is ordered\n",
    "# tuple is iterable\n",
    "# tuple is heterogeneous\n",
    "# tuple is dynamic\n",
    "# Tuple items are ordered, unchangeable, and allow duplicate values.\n",
    "# Tuple items are indexed, the first item has index [0], the second item has index [1] etc."
   ]
  },
  {
   "cell_type": "markdown",
   "id": "7a5e632d",
   "metadata": {},
   "source": [
    "## **SET**"
   ]
  },
  {
   "cell_type": "code",
   "execution_count": 54,
   "id": "fef0168c",
   "metadata": {},
   "outputs": [],
   "source": [
    "# SET SET SET \n",
    "S = {}\n",
    "# Set is a collection of unordered and unindexed items.\n",
    "# Set items are unchangeable, meaning you cannot change the items after the set has been created.\n",
    "# Set items are unordered, meaning you cannot change the order of the items.\n",
    "# Set items are unindexed, meaning you cannot access items by index.\n",
    "# Set items are unique, meaning you cannot have duplicate items in a set.\n",
    "# Set items are mutable, meaning you can add or remove items from a set.\n",
    "# Set items are iterable, meaning you can loop through them.\n",
    "# Set items are dynamic, meaning you can add or remove items from a set.\n",
    "# Set items are heterogeneous, meaning they can contain items of different data types.\n",
    "# Set is one of 4 built-in data types in Python used to store collections of data, \n",
    "# the other 3 are List, Tuple, and Dictionary, all with different qualities and usage\n",
    "# Sets are written with curly brackets\n"
   ]
  },
  {
   "cell_type": "code",
   "execution_count": 2,
   "id": "332a0090",
   "metadata": {},
   "outputs": [
    {
     "data": {
      "text/plain": [
       "{5, 6, 21, 34, 58}"
      ]
     },
     "execution_count": 2,
     "metadata": {},
     "output_type": "execute_result"
    }
   ],
   "source": [
    "s1 = {21,6,34,58,5} \n",
    "s1"
   ]
  },
  {
   "cell_type": "code",
   "execution_count": 3,
   "id": "2c912f9e",
   "metadata": {},
   "outputs": [
    {
     "data": {
      "text/plain": [
       "set"
      ]
     },
     "execution_count": 3,
     "metadata": {},
     "output_type": "execute_result"
    }
   ],
   "source": [
    "type(s1)"
   ]
  },
  {
   "cell_type": "code",
   "execution_count": 4,
   "id": "f9cafa68",
   "metadata": {},
   "outputs": [
    {
     "data": {
      "text/plain": [
       "{'apple', 'banana', 'cherry'}"
      ]
     },
     "execution_count": 4,
     "metadata": {},
     "output_type": "execute_result"
    }
   ],
   "source": [
    "thisset = {\"apple\", \"banana\", \"cherry\"}\n",
    "thisset"
   ]
  },
  {
   "cell_type": "code",
   "execution_count": 5,
   "id": "183adeeb",
   "metadata": {},
   "outputs": [
    {
     "data": {
      "text/plain": [
       "set"
      ]
     },
     "execution_count": 5,
     "metadata": {},
     "output_type": "execute_result"
    }
   ],
   "source": [
    "type(thisset)"
   ]
  },
  {
   "cell_type": "code",
   "execution_count": 57,
   "id": "0f809e6f",
   "metadata": {},
   "outputs": [
    {
     "data": {
      "text/plain": [
       "{'apple', 'banana', 'cherry'}"
      ]
     },
     "execution_count": 57,
     "metadata": {},
     "output_type": "execute_result"
    }
   ],
   "source": [
    "thisset = {\"apple\", \"banana\", \"cherry\", \"apple\"} # duplicate values are not allowed\n",
    "thisset"
   ]
  },
  {
   "cell_type": "code",
   "execution_count": 58,
   "id": "383d3b91",
   "metadata": {},
   "outputs": [
    {
     "data": {
      "text/plain": [
       "{2, True, 'apple', 'banana', 'cherry'}"
      ]
     },
     "execution_count": 58,
     "metadata": {},
     "output_type": "execute_result"
    }
   ],
   "source": [
    "thisset = {\"apple\", \"banana\", \"cherry\", True, 1, 2} # The values True and 1 are considered the same value in sets, and are treated as duplicates\n",
    "thisset"
   ]
  },
  {
   "cell_type": "code",
   "execution_count": 59,
   "id": "3284ae6f",
   "metadata": {},
   "outputs": [
    {
     "data": {
      "text/plain": [
       "{False, 'apple', 'banana', 'cherry'}"
      ]
     },
     "execution_count": 59,
     "metadata": {},
     "output_type": "execute_result"
    }
   ],
   "source": [
    "# False and 0 is considered the same value      \n",
    "thisset = {\"apple\", \"banana\", \"cherry\", False, 0} # The values False and 0 are considered the same value in sets, and are treated as duplicates \n",
    "thisset     "
   ]
  },
  {
   "cell_type": "code",
   "execution_count": 60,
   "id": "45827546",
   "metadata": {},
   "outputs": [
    {
     "ename": "TypeError",
     "evalue": "'set' object is not subscriptable",
     "output_type": "error",
     "traceback": [
      "\u001b[1;31m---------------------------------------------------------------------------\u001b[0m",
      "\u001b[1;31mTypeError\u001b[0m                                 Traceback (most recent call last)",
      "Cell \u001b[1;32mIn[60], line 1\u001b[0m\n\u001b[1;32m----> 1\u001b[0m s1[\u001b[38;5;241m2\u001b[39m]\n",
      "\u001b[1;31mTypeError\u001b[0m: 'set' object is not subscriptable"
     ]
    }
   ],
   "source": [
    "s1[2] # 3rd element. as we dont have proper sequencing thats why indexing not subscriptable"
   ]
  },
  {
   "cell_type": "markdown",
   "id": "5e5c05f1",
   "metadata": {},
   "source": [
    "## **DICTIONARY**"
   ]
  },
  {
   "cell_type": "code",
   "execution_count": 6,
   "id": "301c8f34",
   "metadata": {},
   "outputs": [
    {
     "data": {
      "text/plain": [
       "{1: 'apple', 2: 'banana', 4: 'orange'}"
      ]
     },
     "execution_count": 6,
     "metadata": {},
     "output_type": "execute_result"
    }
   ],
   "source": [
    "data = {1:'apple', 2:'banana',4:'orange'}\n",
    "data"
   ]
  },
  {
   "cell_type": "code",
   "execution_count": 7,
   "id": "d8147893",
   "metadata": {},
   "outputs": [
    {
     "data": {
      "text/plain": [
       "dict"
      ]
     },
     "execution_count": 7,
     "metadata": {},
     "output_type": "execute_result"
    }
   ],
   "source": [
    "type(data)"
   ]
  },
  {
   "cell_type": "code",
   "execution_count": null,
   "id": "330be7cb",
   "metadata": {},
   "outputs": [
    {
     "data": {
      "text/plain": [
       "'apple'"
      ]
     },
     "execution_count": 25,
     "metadata": {},
     "output_type": "execute_result"
    }
   ],
   "source": [
    "data[1] # 1st element"
   ]
  },
  {
   "cell_type": "code",
   "execution_count": null,
   "id": "549be883",
   "metadata": {},
   "outputs": [
    {
     "data": {
      "text/plain": [
       "'banana'"
      ]
     },
     "execution_count": 26,
     "metadata": {},
     "output_type": "execute_result"
    }
   ],
   "source": [
    "data[2] # 2nd element"
   ]
  },
  {
   "cell_type": "code",
   "execution_count": null,
   "id": "9e8c1ac2",
   "metadata": {},
   "outputs": [],
   "source": [
    "\n",
    "# DICTIONARY DICTIONARY DICTIONARY\n",
    "# Dictionary is a collection of unordered, changeable, and indexed items.\n",
    "# Dictionary items are changeable, meaning you can change the items after the dictionary has been created.\n",
    "# Dictionary items are unordered, meaning you cannot change the order of the items.\n",
    "# Dictionary items are indexed, meaning you can access items by index.\n",
    "# Dictionary items are unique, meaning you cannot have duplicate items in a dictionary.\n",
    "# Dictionary items are mutable, meaning you can add or remove items from a dictionary.\n",
    "# Dictionary items are iterable, meaning you can loop through them.\n",
    "# Dictionary items are dynamic, meaning you can add or remove items from a dictionary.\n",
    "# Dictionary items are heterogeneous, meaning they can contain items of different data types.\n",
    "# Dictionary is one of 4 built-in data types in Python used to store collections of data,\n",
    "# the other 3 are List, Tuple, and Set, all with different qualities and usage.\n",
    "# Dictionaries are written with curly brackets, and have keys and values.\n"
   ]
  },
  {
   "cell_type": "code",
   "execution_count": null,
   "id": "6d44349c",
   "metadata": {},
   "outputs": [
    {
     "data": {
      "text/plain": [
       "{'brand': 'Ford', 'model': 'Mustang', 'year': 1964}"
      ]
     },
     "execution_count": 28,
     "metadata": {},
     "output_type": "execute_result"
    }
   ],
   "source": [
    "thisdict = {\n",
    "  \"brand\": \"Ford\",\n",
    "  \"model\": \"Mustang\",\n",
    "  \"year\": 1964\n",
    "}\n",
    "thisdict"
   ]
  },
  {
   "cell_type": "code",
   "execution_count": null,
   "id": "b768e856",
   "metadata": {},
   "outputs": [
    {
     "data": {
      "text/plain": [
       "{'name': 'John',\n",
       " 'age': 36,\n",
       " 'Country': 'Norway',\n",
       " 'profession': 'Engineer',\n",
       " 'My hobby': 'reading',\n",
       " 'Residence city': 'Oslo',\n",
       " 'Language': 'Python',\n",
       " 'Years of experience': 5,\n",
       " 'Salary': 50000,\n",
       " 'Married': False,\n",
       " 'Single': True,\n",
       " 'Student': False,\n",
       " 'Employed': True,\n",
       " 'Retired': False,\n",
       " 'Graduated': True}"
      ]
     },
     "execution_count": 29,
     "metadata": {},
     "output_type": "execute_result"
    }
   ],
   "source": [
    "Mybiodetails = {\n",
    "      \"name\": \"John\",\n",
    "      \"age\": 36,\n",
    "      \"Country\": \"Norway\",\n",
    "      \"profession\": \"Engineer\",\n",
    "      \"My hobby\": \"reading\",\n",
    "      \"Residence city\": \"Oslo\",\n",
    "      \"Language\": \"Python\",\n",
    "      \"Years of experience\": 5,\n",
    "      \"Salary\": 50000,\n",
    "      \"Married\": False,\n",
    "      \"Single\": True,\n",
    "      \"Student\": False,\n",
    "      \"Employed\": True,\n",
    "      \"Retired\": False,\n",
    "      \"Graduated\": True  \n",
    "}\n",
    "Mybiodetails"
   ]
  },
  {
   "cell_type": "code",
   "execution_count": null,
   "id": "889a4280",
   "metadata": {},
   "outputs": [
    {
     "ename": "KeyError",
     "evalue": "3",
     "output_type": "error",
     "traceback": [
      "\u001b[1;31m---------------------------------------------------------------------------\u001b[0m",
      "\u001b[1;31mKeyError\u001b[0m                                  Traceback (most recent call last)",
      "Cell \u001b[1;32mIn[30], line 1\u001b[0m\n\u001b[1;32m----> 1\u001b[0m data[\u001b[38;5;241m3\u001b[39m]\n",
      "\u001b[1;31mKeyError\u001b[0m: 3"
     ]
    }
   ],
   "source": [
    "data[3]"
   ]
  },
  {
   "cell_type": "code",
   "execution_count": null,
   "id": "4ee1000b",
   "metadata": {},
   "outputs": [
    {
     "data": {
      "text/plain": [
       "36"
      ]
     },
     "metadata": {},
     "output_type": "display_data"
    }
   ],
   "source": [
    "Mybiodetails.get('age')# get the value of age"
   ]
  },
  {
   "cell_type": "code",
   "execution_count": null,
   "id": "d8fbe090",
   "metadata": {},
   "outputs": [
    {
     "data": {
      "text/plain": [
       "'banana'"
      ]
     },
     "metadata": {},
     "output_type": "display_data"
    }
   ],
   "source": [
    "data.get(2)# get the value of 2"
   ]
  },
  {
   "cell_type": "code",
   "execution_count": null,
   "id": "d5bf8f19",
   "metadata": {},
   "outputs": [
    {
     "data": {
      "text/plain": [
       "True"
      ]
     },
     "metadata": {},
     "output_type": "display_data"
    }
   ],
   "source": [
    "Mybiodetails.get('Single')# get the value of single\n"
   ]
  },
  {
   "cell_type": "code",
   "execution_count": null,
   "id": "0a2f0c2e",
   "metadata": {},
   "outputs": [
    {
     "data": {
      "text/plain": [
       "50000"
      ]
     },
     "metadata": {},
     "output_type": "display_data"
    }
   ],
   "source": [
    "Mybiodetails.get('Salary')# get the value of salary"
   ]
  },
  {
   "cell_type": "code",
   "execution_count": null,
   "id": "a212de1f",
   "metadata": {},
   "outputs": [],
   "source": [
    "data.get(3)# get the value of 3"
   ]
  },
  {
   "cell_type": "code",
   "execution_count": null,
   "id": "f75f34c9",
   "metadata": {},
   "outputs": [
    {
     "name": "stdout",
     "output_type": "stream",
     "text": [
      "None\n"
     ]
    }
   ],
   "source": [
    "print(data.get(3))# "
   ]
  },
  {
   "cell_type": "code",
   "execution_count": null,
   "id": "a0d256db",
   "metadata": {},
   "outputs": [
    {
     "data": {
      "text/plain": [
       "'apple'"
      ]
     },
     "metadata": {},
     "output_type": "display_data"
    }
   ],
   "source": [
    "data.get(1,'Not Fount')"
   ]
  },
  {
   "cell_type": "code",
   "execution_count": null,
   "id": "355cfb44",
   "metadata": {},
   "outputs": [
    {
     "data": {
      "text/plain": [
       "'Not Found'"
      ]
     },
     "metadata": {},
     "output_type": "display_data"
    }
   ],
   "source": [
    "data.get(3,'Not Found')"
   ]
  },
  {
   "cell_type": "code",
   "execution_count": null,
   "id": "75f84656",
   "metadata": {},
   "outputs": [],
   "source": [
    "data[5] = 'five'# add new key and value"
   ]
  },
  {
   "cell_type": "code",
   "execution_count": null,
   "id": "51719de7",
   "metadata": {},
   "outputs": [
    {
     "data": {
      "text/plain": [
       "{1: 'apple', 2: 'banana', 4: 'orange', 5: 'five'}"
      ]
     },
     "metadata": {},
     "output_type": "display_data"
    }
   ],
   "source": [
    "data"
   ]
  },
  {
   "cell_type": "code",
   "execution_count": null,
   "id": "f57b27d0",
   "metadata": {},
   "outputs": [],
   "source": [
    "data[3] = 'three'# change the value of 3 to three"
   ]
  },
  {
   "cell_type": "code",
   "execution_count": null,
   "id": "a719a0d2",
   "metadata": {},
   "outputs": [
    {
     "data": {
      "text/plain": [
       "{1: 'apple', 2: 'banana', 4: 'orange', 5: 'five', 3: 'three'}"
      ]
     },
     "metadata": {},
     "output_type": "display_data"
    }
   ],
   "source": [
    "data"
   ]
  },
  {
   "cell_type": "code",
   "execution_count": null,
   "id": "507060de",
   "metadata": {},
   "outputs": [],
   "source": [
    "data[6] = 'six'# add new key and value"
   ]
  },
  {
   "cell_type": "code",
   "execution_count": null,
   "id": "1b7b4622",
   "metadata": {},
   "outputs": [
    {
     "data": {
      "text/plain": [
       "{1: 'apple', 2: 'banana', 4: 'orange', 5: 'five', 3: 'three', 6: 'six'}"
      ]
     },
     "metadata": {},
     "output_type": "display_data"
    }
   ],
   "source": [
    "data"
   ]
  },
  {
   "cell_type": "code",
   "execution_count": null,
   "id": "92452eff",
   "metadata": {},
   "outputs": [],
   "source": [
    "del data[6] # delete the key and value of 6"
   ]
  },
  {
   "cell_type": "code",
   "execution_count": null,
   "id": "9bb57914",
   "metadata": {},
   "outputs": [
    {
     "data": {
      "text/plain": [
       "{1: 'apple', 2: 'banana', 4: 'orange', 5: 'five', 3: 'three'}"
      ]
     },
     "metadata": {},
     "output_type": "display_data"
    }
   ],
   "source": [
    "data"
   ]
  },
  {
   "cell_type": "code",
   "execution_count": null,
   "id": "51068060",
   "metadata": {},
   "outputs": [],
   "source": [
    "del data[3] # delete the key and value of 3"
   ]
  },
  {
   "cell_type": "code",
   "execution_count": null,
   "id": "616a11cc",
   "metadata": {},
   "outputs": [
    {
     "data": {
      "text/plain": [
       "{1: 'apple', 2: 'banana', 4: 'orange', 5: 'five'}"
      ]
     },
     "metadata": {},
     "output_type": "display_data"
    }
   ],
   "source": [
    "data"
   ]
  },
  {
   "cell_type": "code",
   "execution_count": null,
   "id": "346f9dcb",
   "metadata": {},
   "outputs": [],
   "source": [
    "#list in the dictionary\n",
    "prog = {'python':['vscode', 'pycharm'], 'machine learning' : 'sklearn', 'datascience':['jupyter','spyder'] }"
   ]
  },
  {
   "cell_type": "code",
   "execution_count": null,
   "id": "00b92ed2",
   "metadata": {},
   "outputs": [
    {
     "data": {
      "text/plain": [
       "{'python': ['vscode', 'pycharm'],\n",
       " 'machine learning': 'sklearn',\n",
       " 'datascience': ['jupyter', 'spyder']}"
      ]
     },
     "metadata": {},
     "output_type": "display_data"
    }
   ],
   "source": [
    "prog"
   ]
  },
  {
   "cell_type": "code",
   "execution_count": null,
   "id": "3ee74945",
   "metadata": {},
   "outputs": [
    {
     "data": {
      "text/plain": [
       "{'python': ['vscode', 'pycharm'],\n",
       " 'machine learning': 'sklearn',\n",
       " 'datascience': ['jupyter', 'spyder']}"
      ]
     },
     "metadata": {},
     "output_type": "display_data"
    }
   ],
   "source": [
    "prog"
   ]
  },
  {
   "cell_type": "code",
   "execution_count": null,
   "id": "2995c762",
   "metadata": {},
   "outputs": [
    {
     "data": {
      "text/plain": [
       "['vscode', 'pycharm']"
      ]
     },
     "metadata": {},
     "output_type": "display_data"
    }
   ],
   "source": [
    "prog['python'] # get the value of python"
   ]
  },
  {
   "cell_type": "code",
   "execution_count": null,
   "id": "b62c15b5",
   "metadata": {},
   "outputs": [
    {
     "data": {
      "text/plain": [
       "'sklearn'"
      ]
     },
     "metadata": {},
     "output_type": "display_data"
    }
   ],
   "source": [
    "prog['machine learning'] # get the value of machine learning"
   ]
  },
  {
   "cell_type": "code",
   "execution_count": null,
   "id": "d4f6b3c6",
   "metadata": {},
   "outputs": [
    {
     "data": {
      "text/plain": [
       "['jupyter', 'spyder']"
      ]
     },
     "metadata": {},
     "output_type": "display_data"
    }
   ],
   "source": [
    "prog['datascience'] # get the value of datascience"
   ]
  },
  {
   "cell_type": "code",
   "execution_count": null,
   "id": "76bd2c22",
   "metadata": {},
   "outputs": [
    {
     "name": "stdout",
     "output_type": "stream",
     "text": [
      "Help on list object:\n",
      "\n",
      "class list(object)\n",
      " |  list(iterable=(), /)\n",
      " |\n",
      " |  Built-in mutable sequence.\n",
      " |\n",
      " |  If no argument is given, the constructor creates a new empty list.\n",
      " |  The argument must be an iterable if specified.\n",
      " |\n",
      " |  Methods defined here:\n",
      " |\n",
      " |  __add__(self, value, /)\n",
      " |      Return self+value.\n",
      " |\n",
      " |  __contains__(self, key, /)\n",
      " |      Return bool(key in self).\n",
      " |\n",
      " |  __delitem__(self, key, /)\n",
      " |      Delete self[key].\n",
      " |\n",
      " |  __eq__(self, value, /)\n",
      " |      Return self==value.\n",
      " |\n",
      " |  __ge__(self, value, /)\n",
      " |      Return self>=value.\n",
      " |\n",
      " |  __getattribute__(self, name, /)\n",
      " |      Return getattr(self, name).\n",
      " |\n",
      " |  __getitem__(self, index, /)\n",
      " |      Return self[index].\n",
      " |\n",
      " |  __gt__(self, value, /)\n",
      " |      Return self>value.\n",
      " |\n",
      " |  __iadd__(self, value, /)\n",
      " |      Implement self+=value.\n",
      " |\n",
      " |  __imul__(self, value, /)\n",
      " |      Implement self*=value.\n",
      " |\n",
      " |  __init__(self, /, *args, **kwargs)\n",
      " |      Initialize self.  See help(type(self)) for accurate signature.\n",
      " |\n",
      " |  __iter__(self, /)\n",
      " |      Implement iter(self).\n",
      " |\n",
      " |  __le__(self, value, /)\n",
      " |      Return self<=value.\n",
      " |\n",
      " |  __len__(self, /)\n",
      " |      Return len(self).\n",
      " |\n",
      " |  __lt__(self, value, /)\n",
      " |      Return self<value.\n",
      " |\n",
      " |  __mul__(self, value, /)\n",
      " |      Return self*value.\n",
      " |\n",
      " |  __ne__(self, value, /)\n",
      " |      Return self!=value.\n",
      " |\n",
      " |  __repr__(self, /)\n",
      " |      Return repr(self).\n",
      " |\n",
      " |  __reversed__(self, /)\n",
      " |      Return a reverse iterator over the list.\n",
      " |\n",
      " |  __rmul__(self, value, /)\n",
      " |      Return value*self.\n",
      " |\n",
      " |  __setitem__(self, key, value, /)\n",
      " |      Set self[key] to value.\n",
      " |\n",
      " |  __sizeof__(self, /)\n",
      " |      Return the size of the list in memory, in bytes.\n",
      " |\n",
      " |  append(self, object, /)\n",
      " |      Append object to the end of the list.\n",
      " |\n",
      " |  clear(self, /)\n",
      " |      Remove all items from list.\n",
      " |\n",
      " |  copy(self, /)\n",
      " |      Return a shallow copy of the list.\n",
      " |\n",
      " |  count(self, value, /)\n",
      " |      Return number of occurrences of value.\n",
      " |\n",
      " |  extend(self, iterable, /)\n",
      " |      Extend list by appending elements from the iterable.\n",
      " |\n",
      " |  index(self, value, start=0, stop=9223372036854775807, /)\n",
      " |      Return first index of value.\n",
      " |\n",
      " |      Raises ValueError if the value is not present.\n",
      " |\n",
      " |  insert(self, index, object, /)\n",
      " |      Insert object before index.\n",
      " |\n",
      " |  pop(self, index=-1, /)\n",
      " |      Remove and return item at index (default last).\n",
      " |\n",
      " |      Raises IndexError if list is empty or index is out of range.\n",
      " |\n",
      " |  remove(self, value, /)\n",
      " |      Remove first occurrence of value.\n",
      " |\n",
      " |      Raises ValueError if the value is not present.\n",
      " |\n",
      " |  reverse(self, /)\n",
      " |      Reverse *IN PLACE*.\n",
      " |\n",
      " |  sort(self, /, *, key=None, reverse=False)\n",
      " |      Sort the list in ascending order and return None.\n",
      " |\n",
      " |      The sort is in-place (i.e. the list itself is modified) and stable (i.e. the\n",
      " |      order of two equal elements is maintained).\n",
      " |\n",
      " |      If a key function is given, apply it once to each list item and sort them,\n",
      " |      ascending or descending, according to their function values.\n",
      " |\n",
      " |      The reverse flag can be set to sort in descending order.\n",
      " |\n",
      " |  ----------------------------------------------------------------------\n",
      " |  Class methods defined here:\n",
      " |\n",
      " |  __class_getitem__(...)\n",
      " |      See PEP 585\n",
      " |\n",
      " |  ----------------------------------------------------------------------\n",
      " |  Static methods defined here:\n",
      " |\n",
      " |  __new__(*args, **kwargs)\n",
      " |      Create and return a new object.  See help(type) for accurate signature.\n",
      " |\n",
      " |  ----------------------------------------------------------------------\n",
      " |  Data and other attributes defined here:\n",
      " |\n",
      " |  __hash__ = None\n",
      "\n"
     ]
    }
   ],
   "source": [
    "help(prog['python']) # get the help of python"
   ]
  },
  {
   "cell_type": "code",
   "execution_count": null,
   "id": "cb5ce9fb",
   "metadata": {},
   "outputs": [
    {
     "name": "stdout",
     "output_type": "stream",
     "text": [
      "Welcome to Python 3.12's help utility! If this is your first time using\n",
      "Python, you should definitely check out the tutorial at\n",
      "https://docs.python.org/3.12/tutorial/.\n",
      "\n",
      "Enter the name of any module, keyword, or topic to get help on writing\n",
      "Python programs and using Python modules.  To get a list of available\n",
      "modules, keywords, symbols, or topics, enter \"modules\", \"keywords\",\n",
      "\"symbols\", or \"topics\".\n",
      "\n",
      "Each module also comes with a one-line summary of what it does; to list\n",
      "the modules whose name or summary contain a given string such as \"spam\",\n",
      "enter \"modules spam\".\n",
      "\n",
      "To quit this help utility and return to the interpreter,\n",
      "enter \"q\" or \"quit\".\n",
      "\n",
      "\n",
      "You are now leaving help and returning to the Python interpreter.\n",
      "If you want to ask for help on a particular object directly from the\n",
      "interpreter, you can type \"help(object)\".  Executing \"help('string')\"\n",
      "has the same effect as typing a particular string at the help> prompt.\n"
     ]
    }
   ],
   "source": [
    "help()# get the help of python"
   ]
  },
  {
   "cell_type": "code",
   "execution_count": null,
   "id": "8cc5edf2",
   "metadata": {},
   "outputs": [
    {
     "name": "stdout",
     "output_type": "stream",
     "text": [
      "Help on package sklearn:\n",
      "\n",
      "NAME\n",
      "    sklearn - Configure global settings and get information about the working environment.\n",
      "\n",
      "PACKAGE CONTENTS\n",
      "    __check_build (package)\n",
      "    _build_utils (package)\n",
      "    _built_with_meson\n",
      "    _config\n",
      "    _distributor_init\n",
      "    _isotonic\n",
      "    _loss (package)\n",
      "    _min_dependencies\n",
      "    base\n",
      "    calibration\n",
      "    cluster (package)\n",
      "    compose (package)\n",
      "    conftest\n",
      "    covariance (package)\n",
      "    cross_decomposition (package)\n",
      "    datasets (package)\n",
      "    decomposition (package)\n",
      "    discriminant_analysis\n",
      "    dummy\n",
      "    ensemble (package)\n",
      "    exceptions\n",
      "    experimental (package)\n",
      "    externals (package)\n",
      "    feature_extraction (package)\n",
      "    feature_selection (package)\n",
      "    gaussian_process (package)\n",
      "    impute (package)\n",
      "    inspection (package)\n",
      "    isotonic\n",
      "    kernel_approximation\n",
      "    kernel_ridge\n",
      "    linear_model (package)\n",
      "    manifold (package)\n",
      "    metrics (package)\n",
      "    mixture (package)\n",
      "    model_selection (package)\n",
      "    multiclass\n",
      "    multioutput\n",
      "    naive_bayes\n",
      "    neighbors (package)\n",
      "    neural_network (package)\n",
      "    pipeline\n",
      "    preprocessing (package)\n",
      "    random_projection\n",
      "    semi_supervised (package)\n",
      "    svm (package)\n",
      "    tests (package)\n",
      "    tree (package)\n",
      "    utils (package)\n",
      "\n",
      "FUNCTIONS\n",
      "    clone(estimator, *, safe=True)\n",
      "        Construct a new unfitted estimator with the same parameters.\n",
      "\n",
      "        Clone does a deep copy of the model in an estimator\n",
      "        without actually copying attached data. It returns a new estimator\n",
      "        with the same parameters that has not been fitted on any data.\n",
      "\n",
      "        .. versionchanged:: 1.3\n",
      "            Delegates to `estimator.__sklearn_clone__` if the method exists.\n",
      "\n",
      "        Parameters\n",
      "        ----------\n",
      "        estimator : {list, tuple, set} of estimator instance or a single             estimator instance\n",
      "            The estimator or group of estimators to be cloned.\n",
      "        safe : bool, default=True\n",
      "            If safe is False, clone will fall back to a deep copy on objects\n",
      "            that are not estimators. Ignored if `estimator.__sklearn_clone__`\n",
      "            exists.\n",
      "\n",
      "        Returns\n",
      "        -------\n",
      "        estimator : object\n",
      "            The deep copy of the input, an estimator if input is an estimator.\n",
      "\n",
      "        Notes\n",
      "        -----\n",
      "        If the estimator's `random_state` parameter is an integer (or if the\n",
      "        estimator doesn't have a `random_state` parameter), an *exact clone* is\n",
      "        returned: the clone and the original estimator will give the exact same\n",
      "        results. Otherwise, *statistical clone* is returned: the clone might\n",
      "        return different results from the original estimator. More details can be\n",
      "        found in :ref:`randomness`.\n",
      "\n",
      "        Examples\n",
      "        --------\n",
      "        >>> from sklearn.base import clone\n",
      "        >>> from sklearn.linear_model import LogisticRegression\n",
      "        >>> X = [[-1, 0], [0, 1], [0, -1], [1, 0]]\n",
      "        >>> y = [0, 0, 1, 1]\n",
      "        >>> classifier = LogisticRegression().fit(X, y)\n",
      "        >>> cloned_classifier = clone(classifier)\n",
      "        >>> hasattr(classifier, \"classes_\")\n",
      "        True\n",
      "        >>> hasattr(cloned_classifier, \"classes_\")\n",
      "        False\n",
      "        >>> classifier is cloned_classifier\n",
      "        False\n",
      "\n",
      "    config_context(*, assume_finite=None, working_memory=None, print_changed_only=None, display=None, pairwise_dist_chunk_size=None, enable_cython_pairwise_dist=None, array_api_dispatch=None, transform_output=None, enable_metadata_routing=None, skip_parameter_validation=None)\n",
      "        Context manager for global scikit-learn configuration.\n",
      "\n",
      "        Parameters\n",
      "        ----------\n",
      "        assume_finite : bool, default=None\n",
      "            If True, validation for finiteness will be skipped,\n",
      "            saving time, but leading to potential crashes. If\n",
      "            False, validation for finiteness will be performed,\n",
      "            avoiding error. If None, the existing value won't change.\n",
      "            The default value is False.\n",
      "\n",
      "        working_memory : int, default=None\n",
      "            If set, scikit-learn will attempt to limit the size of temporary arrays\n",
      "            to this number of MiB (per job when parallelised), often saving both\n",
      "            computation time and memory on expensive operations that can be\n",
      "            performed in chunks. If None, the existing value won't change.\n",
      "            The default value is 1024.\n",
      "\n",
      "        print_changed_only : bool, default=None\n",
      "            If True, only the parameters that were set to non-default\n",
      "            values will be printed when printing an estimator. For example,\n",
      "            ``print(SVC())`` while True will only print 'SVC()', but would print\n",
      "            'SVC(C=1.0, cache_size=200, ...)' with all the non-changed parameters\n",
      "            when False. If None, the existing value won't change.\n",
      "            The default value is True.\n",
      "\n",
      "            .. versionchanged:: 0.23\n",
      "               Default changed from False to True.\n",
      "\n",
      "        display : {'text', 'diagram'}, default=None\n",
      "            If 'diagram', estimators will be displayed as a diagram in a Jupyter\n",
      "            lab or notebook context. If 'text', estimators will be displayed as\n",
      "            text. If None, the existing value won't change.\n",
      "            The default value is 'diagram'.\n",
      "\n",
      "            .. versionadded:: 0.23\n",
      "\n",
      "        pairwise_dist_chunk_size : int, default=None\n",
      "            The number of row vectors per chunk for the accelerated pairwise-\n",
      "            distances reduction backend. Default is 256 (suitable for most of\n",
      "            modern laptops' caches and architectures).\n",
      "\n",
      "            Intended for easier benchmarking and testing of scikit-learn internals.\n",
      "            End users are not expected to benefit from customizing this configuration\n",
      "            setting.\n",
      "\n",
      "            .. versionadded:: 1.1\n",
      "\n",
      "        enable_cython_pairwise_dist : bool, default=None\n",
      "            Use the accelerated pairwise-distances reduction backend when\n",
      "            possible. Global default: True.\n",
      "\n",
      "            Intended for easier benchmarking and testing of scikit-learn internals.\n",
      "            End users are not expected to benefit from customizing this configuration\n",
      "            setting.\n",
      "\n",
      "            .. versionadded:: 1.1\n",
      "\n",
      "        array_api_dispatch : bool, default=None\n",
      "            Use Array API dispatching when inputs follow the Array API standard.\n",
      "            Default is False.\n",
      "\n",
      "            See the :ref:`User Guide <array_api>` for more details.\n",
      "\n",
      "            .. versionadded:: 1.2\n",
      "\n",
      "        transform_output : str, default=None\n",
      "            Configure output of `transform` and `fit_transform`.\n",
      "\n",
      "            See :ref:`sphx_glr_auto_examples_miscellaneous_plot_set_output.py`\n",
      "            for an example on how to use the API.\n",
      "\n",
      "            - `\"default\"`: Default output format of a transformer\n",
      "            - `\"pandas\"`: DataFrame output\n",
      "            - `\"polars\"`: Polars output\n",
      "            - `None`: Transform configuration is unchanged\n",
      "\n",
      "            .. versionadded:: 1.2\n",
      "            .. versionadded:: 1.4\n",
      "                `\"polars\"` option was added.\n",
      "\n",
      "        enable_metadata_routing : bool, default=None\n",
      "            Enable metadata routing. By default this feature is disabled.\n",
      "\n",
      "            Refer to :ref:`metadata routing user guide <metadata_routing>` for more\n",
      "            details.\n",
      "\n",
      "            - `True`: Metadata routing is enabled\n",
      "            - `False`: Metadata routing is disabled, use the old syntax.\n",
      "            - `None`: Configuration is unchanged\n",
      "\n",
      "            .. versionadded:: 1.3\n",
      "\n",
      "        skip_parameter_validation : bool, default=None\n",
      "            If `True`, disable the validation of the hyper-parameters' types and values in\n",
      "            the fit method of estimators and for arguments passed to public helper\n",
      "            functions. It can save time in some situations but can lead to low level\n",
      "            crashes and exceptions with confusing error messages.\n",
      "\n",
      "            Note that for data parameters, such as `X` and `y`, only type validation is\n",
      "            skipped but validation with `check_array` will continue to run.\n",
      "\n",
      "            .. versionadded:: 1.3\n",
      "\n",
      "        Yields\n",
      "        ------\n",
      "        None.\n",
      "\n",
      "        See Also\n",
      "        --------\n",
      "        set_config : Set global scikit-learn configuration.\n",
      "        get_config : Retrieve current values of the global configuration.\n",
      "\n",
      "        Notes\n",
      "        -----\n",
      "        All settings, not just those presently modified, will be returned to\n",
      "        their previous values when the context manager is exited.\n",
      "\n",
      "        Examples\n",
      "        --------\n",
      "        >>> import sklearn\n",
      "        >>> from sklearn.utils.validation import assert_all_finite\n",
      "        >>> with sklearn.config_context(assume_finite=True):\n",
      "        ...     assert_all_finite([float('nan')])\n",
      "        >>> with sklearn.config_context(assume_finite=True):\n",
      "        ...     with sklearn.config_context(assume_finite=False):\n",
      "        ...         assert_all_finite([float('nan')])\n",
      "        Traceback (most recent call last):\n",
      "        ...\n",
      "        ValueError: Input contains NaN...\n",
      "\n",
      "    get_config()\n",
      "        Retrieve current values for configuration set by :func:`set_config`.\n",
      "\n",
      "        Returns\n",
      "        -------\n",
      "        config : dict\n",
      "            Keys are parameter names that can be passed to :func:`set_config`.\n",
      "\n",
      "        See Also\n",
      "        --------\n",
      "        config_context : Context manager for global scikit-learn configuration.\n",
      "        set_config : Set global scikit-learn configuration.\n",
      "\n",
      "        Examples\n",
      "        --------\n",
      "        >>> import sklearn\n",
      "        >>> config = sklearn.get_config()\n",
      "        >>> config.keys()\n",
      "        dict_keys([...])\n",
      "\n",
      "    set_config(assume_finite=None, working_memory=None, print_changed_only=None, display=None, pairwise_dist_chunk_size=None, enable_cython_pairwise_dist=None, array_api_dispatch=None, transform_output=None, enable_metadata_routing=None, skip_parameter_validation=None)\n",
      "        Set global scikit-learn configuration.\n",
      "\n",
      "        .. versionadded:: 0.19\n",
      "\n",
      "        Parameters\n",
      "        ----------\n",
      "        assume_finite : bool, default=None\n",
      "            If True, validation for finiteness will be skipped,\n",
      "            saving time, but leading to potential crashes. If\n",
      "            False, validation for finiteness will be performed,\n",
      "            avoiding error.  Global default: False.\n",
      "\n",
      "            .. versionadded:: 0.19\n",
      "\n",
      "        working_memory : int, default=None\n",
      "            If set, scikit-learn will attempt to limit the size of temporary arrays\n",
      "            to this number of MiB (per job when parallelised), often saving both\n",
      "            computation time and memory on expensive operations that can be\n",
      "            performed in chunks. Global default: 1024.\n",
      "\n",
      "            .. versionadded:: 0.20\n",
      "\n",
      "        print_changed_only : bool, default=None\n",
      "            If True, only the parameters that were set to non-default\n",
      "            values will be printed when printing an estimator. For example,\n",
      "            ``print(SVC())`` while True will only print 'SVC()' while the default\n",
      "            behaviour would be to print 'SVC(C=1.0, cache_size=200, ...)' with\n",
      "            all the non-changed parameters.\n",
      "\n",
      "            .. versionadded:: 0.21\n",
      "\n",
      "        display : {'text', 'diagram'}, default=None\n",
      "            If 'diagram', estimators will be displayed as a diagram in a Jupyter\n",
      "            lab or notebook context. If 'text', estimators will be displayed as\n",
      "            text. Default is 'diagram'.\n",
      "\n",
      "            .. versionadded:: 0.23\n",
      "\n",
      "        pairwise_dist_chunk_size : int, default=None\n",
      "            The number of row vectors per chunk for the accelerated pairwise-\n",
      "            distances reduction backend. Default is 256 (suitable for most of\n",
      "            modern laptops' caches and architectures).\n",
      "\n",
      "            Intended for easier benchmarking and testing of scikit-learn internals.\n",
      "            End users are not expected to benefit from customizing this configuration\n",
      "            setting.\n",
      "\n",
      "            .. versionadded:: 1.1\n",
      "\n",
      "        enable_cython_pairwise_dist : bool, default=None\n",
      "            Use the accelerated pairwise-distances reduction backend when\n",
      "            possible. Global default: True.\n",
      "\n",
      "            Intended for easier benchmarking and testing of scikit-learn internals.\n",
      "            End users are not expected to benefit from customizing this configuration\n",
      "            setting.\n",
      "\n",
      "            .. versionadded:: 1.1\n",
      "\n",
      "        array_api_dispatch : bool, default=None\n",
      "            Use Array API dispatching when inputs follow the Array API standard.\n",
      "            Default is False.\n",
      "\n",
      "            See the :ref:`User Guide <array_api>` for more details.\n",
      "\n",
      "            .. versionadded:: 1.2\n",
      "\n",
      "        transform_output : str, default=None\n",
      "            Configure output of `transform` and `fit_transform`.\n",
      "\n",
      "            See :ref:`sphx_glr_auto_examples_miscellaneous_plot_set_output.py`\n",
      "            for an example on how to use the API.\n",
      "\n",
      "            - `\"default\"`: Default output format of a transformer\n",
      "            - `\"pandas\"`: DataFrame output\n",
      "            - `\"polars\"`: Polars output\n",
      "            - `None`: Transform configuration is unchanged\n",
      "\n",
      "            .. versionadded:: 1.2\n",
      "            .. versionadded:: 1.4\n",
      "                `\"polars\"` option was added.\n",
      "\n",
      "        enable_metadata_routing : bool, default=None\n",
      "            Enable metadata routing. By default this feature is disabled.\n",
      "\n",
      "            Refer to :ref:`metadata routing user guide <metadata_routing>` for more\n",
      "            details.\n",
      "\n",
      "            - `True`: Metadata routing is enabled\n",
      "            - `False`: Metadata routing is disabled, use the old syntax.\n",
      "            - `None`: Configuration is unchanged\n",
      "\n",
      "            .. versionadded:: 1.3\n",
      "\n",
      "        skip_parameter_validation : bool, default=None\n",
      "            If `True`, disable the validation of the hyper-parameters' types and values in\n",
      "            the fit method of estimators and for arguments passed to public helper\n",
      "            functions. It can save time in some situations but can lead to low level\n",
      "            crashes and exceptions with confusing error messages.\n",
      "\n",
      "            Note that for data parameters, such as `X` and `y`, only type validation is\n",
      "            skipped but validation with `check_array` will continue to run.\n",
      "\n",
      "            .. versionadded:: 1.3\n",
      "\n",
      "        See Also\n",
      "        --------\n",
      "        config_context : Context manager for global scikit-learn configuration.\n",
      "        get_config : Retrieve current values of the global configuration.\n",
      "\n",
      "        Examples\n",
      "        --------\n",
      "        >>> from sklearn import set_config\n",
      "        >>> set_config(display='diagram')  # doctest: +SKIP\n",
      "\n",
      "    show_versions()\n",
      "        Print useful debugging information\"\n",
      "\n",
      "        .. versionadded:: 0.20\n",
      "\n",
      "        Examples\n",
      "        --------\n",
      "        >>> from sklearn import show_versions\n",
      "        >>> show_versions()  # doctest: +SKIP\n",
      "\n",
      "DATA\n",
      "    __SKLEARN_SETUP__ = False\n",
      "    __all__ = ['calibration', 'cluster', 'covariance', 'cross_decompositio...\n",
      "\n",
      "VERSION\n",
      "    1.5.1\n",
      "\n",
      "FILE\n",
      "    c:\\users\\xps\\anaconda3\\anaconda ap 25\\lib\\site-packages\\sklearn\\__init__.py\n",
      "\n",
      "\n"
     ]
    }
   ],
   "source": [
    "help(prog['machine learning']) # get the help of machine learning"
   ]
  },
  {
   "cell_type": "markdown",
   "id": "b018b8e8",
   "metadata": {},
   "source": [
    "How to create environment variable"
   ]
  },
  {
   "cell_type": "code",
   "execution_count": null,
   "id": "77caeb30",
   "metadata": {},
   "outputs": [],
   "source": [
    "# STEPS TO SET UP EXECUTE PYTHON IN SYSTEM CMD (TO CREATE ENVIRONMENT VARIABLE)\n",
    "# Open cmd # python (You will get error when you execute 1st time)\n",
    "# search with environment variable - system variable:(C:\\Users\\kdata\\AppData\\Local\\Microsoft\\WindowsApps)\n",
    "# restart the cmd & type python in cmd it will work now"
   ]
  }
 ],
 "metadata": {
  "kernelspec": {
   "display_name": "base",
   "language": "python",
   "name": "python3"
  },
  "language_info": {
   "codemirror_mode": {
    "name": "ipython",
    "version": 3
   },
   "file_extension": ".py",
   "mimetype": "text/x-python",
   "name": "python",
   "nbconvert_exporter": "python",
   "pygments_lexer": "ipython3",
   "version": "3.12.7"
  }
 },
 "nbformat": 4,
 "nbformat_minor": 5
}
