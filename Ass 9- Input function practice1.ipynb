{
 "cells": [
  {
   "cell_type": "code",
   "execution_count": 2,
   "id": "8f90bddd-a96a-4e49-bbb9-ec86defaa4a6",
   "metadata": {},
   "outputs": [
    {
     "name": "stdout",
     "output_type": "stream",
     "text": [
      " 5\n",
      " 6\n"
     ]
    },
    {
     "name": "stdout",
     "output_type": "stream",
     "text": [
      "56\n"
     ]
    }
   ],
   "source": [
    "x = input()\n",
    "y = input()\n",
    "z = x + y\n",
    "print(z)"
   ]
  },
  {
   "cell_type": "code",
   "execution_count": 4,
   "id": "923b976c-c616-46c7-802f-b852f6213056",
   "metadata": {},
   "outputs": [
    {
     "name": "stdout",
     "output_type": "stream",
     "text": [
      "Enter your value:  123\n"
     ]
    },
    {
     "name": "stdout",
     "output_type": "stream",
     "text": [
      "123\n"
     ]
    }
   ],
   "source": [
    "val = input(\"Enter your value: \")\n",
    "print(val)"
   ]
  },
  {
   "cell_type": "code",
   "execution_count": 10,
   "id": "0a57c1ce-4939-4bec-b6f5-4e59d5010dff",
   "metadata": {},
   "outputs": [
    {
     "name": "stdout",
     "output_type": "stream",
     "text": [
      "What is your name?\n",
      " Shein\n"
     ]
    },
    {
     "name": "stdout",
     "output_type": "stream",
     "text": [
      "Shein\n"
     ]
    }
   ],
   "source": [
    "name = input('What is your name?\\n')\n",
    "print(name)"
   ]
  },
  {
   "cell_type": "code",
   "execution_count": 12,
   "id": "83a19144-68da-4110-ac3d-346303bf470b",
   "metadata": {},
   "outputs": [
    {
     "name": "stdout",
     "output_type": "stream",
     "text": [
      "Enter number : 123\n"
     ]
    },
    {
     "name": "stdout",
     "output_type": "stream",
     "text": [
      "123\n"
     ]
    },
    {
     "name": "stdout",
     "output_type": "stream",
     "text": [
      "Enter name :  Shein\n"
     ]
    },
    {
     "name": "stdout",
     "output_type": "stream",
     "text": [
      "Shein\n",
      "type of number <class 'str'>\n",
      "type of name <class 'str'>\n"
     ]
    }
   ],
   "source": [
    "# Program to check input\n",
    "# type in Python\n",
    "num = input(\"Enter number :\")\n",
    "print(num)\n",
    "name1 = input(\"Enter name : \")\n",
    "print(name1)\n",
    "# Printing type of input value\n",
    "print(\"type of number\", type(num))\n",
    "print(\"type of name\", type(name1))"
   ]
  },
  {
   "cell_type": "code",
   "execution_count": 14,
   "id": "b1f44bdb-d69f-4087-85d8-6b21101867d7",
   "metadata": {},
   "outputs": [
    {
     "name": "stdout",
     "output_type": "stream",
     "text": [
      "Enter a number 29\n"
     ]
    },
    {
     "name": "stdout",
     "output_type": "stream",
     "text": [
      "29   <class 'int'>\n"
     ]
    },
    {
     "name": "stdout",
     "output_type": "stream",
     "text": [
      "Enter a decimal number:  100.4\n"
     ]
    },
    {
     "name": "stdout",
     "output_type": "stream",
     "text": [
      "100.4   <class 'float'>\n"
     ]
    }
   ],
   "source": [
    "# Note: input() function takes all the input as a string only\n",
    "# There are various funtions that are used to take as desired input few of them are: int(input()) and float(input())\n",
    "num = int(input(\"Enter a number\"))\n",
    "print(num, \" \", type(num))\n",
    "floatNum = float(input(\"Enter a decimal number: \"))\n",
    "print(floatNum, \" \", type(floatNum))\n",
    "          "
   ]
  },
  {
   "cell_type": "code",
   "execution_count": 16,
   "id": "9747d0cb-f35d-417f-9105-e012ac3ac001",
   "metadata": {},
   "outputs": [
    {
     "name": "stdout",
     "output_type": "stream",
     "text": [
      "Please enter your ID number:  1234\n"
     ]
    },
    {
     "name": "stdout",
     "output_type": "stream",
     "text": [
      "Welcome, 1234!\n"
     ]
    }
   ],
   "source": [
    "IDnumber = input(\"Please enter your ID number: \")\n",
    "print(\"Welcome, \" + IDnumber + \"!\")"
   ]
  },
  {
   "cell_type": "code",
   "execution_count": 18,
   "id": "4dbc746a-f877-4fc0-ae0a-9d6a565e7499",
   "metadata": {},
   "outputs": [
    {
     "name": "stdout",
     "output_type": "stream",
     "text": [
      " Print this\n"
     ]
    },
    {
     "name": "stdout",
     "output_type": "stream",
     "text": [
      "Print this\n"
     ]
    }
   ],
   "source": [
    "userInput = input()\n",
    "print(userInput)"
   ]
  },
  {
   "cell_type": "code",
   "execution_count": 20,
   "id": "893ea990-8474-4949-9098-6e122474aaaf",
   "metadata": {},
   "outputs": [
    {
     "name": "stdout",
     "output_type": "stream",
     "text": [
      "Type an integer:  5\n"
     ]
    },
    {
     "name": "stdout",
     "output_type": "stream",
     "text": [
      "12\n"
     ]
    }
   ],
   "source": [
    "number = int(input(\"Type an integer: \"))\n",
    "addition = number + 7\n",
    "print(addition)"
   ]
  },
  {
   "cell_type": "code",
   "execution_count": 22,
   "id": "83acb50f-11dc-4b96-aca0-05af94c94b83",
   "metadata": {},
   "outputs": [
    {
     "name": "stdout",
     "output_type": "stream",
     "text": [
      "Type a number:  8\n"
     ]
    },
    {
     "name": "stdout",
     "output_type": "stream",
     "text": [
      "15.0\n"
     ]
    }
   ],
   "source": [
    "number = float(input(\"Type a number: \"))\n",
    "addition = number + 7\n",
    "print(addition)"
   ]
  },
  {
   "cell_type": "code",
   "execution_count": 24,
   "id": "64944016-bae9-4889-95ff-db3f650777f8",
   "metadata": {},
   "outputs": [
    {
     "name": "stdout",
     "output_type": "stream",
     "text": [
      "Type some data:  76859903033\n"
     ]
    },
    {
     "name": "stdout",
     "output_type": "stream",
     "text": [
      "['7', '6', '8', '5', '9', '9', '0', '3', '0', '3', '3']\n"
     ]
    }
   ],
   "source": [
    "numberList = list(input(\"Type some data: \"))\n",
    "print(numberList)"
   ]
  },
  {
   "cell_type": "code",
   "execution_count": 26,
   "id": "c75aba9c-2dfb-4fbd-8caa-9b80931c36b7",
   "metadata": {},
   "outputs": [
    {
     "name": "stdout",
     "output_type": "stream",
     "text": [
      "Type some data:  5670245\n"
     ]
    },
    {
     "name": "stdout",
     "output_type": "stream",
     "text": [
      "('5', '6', '7', '0', '2', '4', '5')\n"
     ]
    }
   ],
   "source": [
    "numberTuple = tuple(input(\"Type some data: \"))\n",
    "print(numberTuple)"
   ]
  },
  {
   "cell_type": "code",
   "execution_count": 28,
   "id": "f0fd1437-ffe0-470c-aa20-e655d8b17837",
   "metadata": {},
   "outputs": [
    {
     "name": "stdout",
     "output_type": "stream",
     "text": [
      "Enter some words with space:  Micah Annaela\n"
     ]
    },
    {
     "name": "stdout",
     "output_type": "stream",
     "text": [
      "{'M': 1, 'i': 1, 'c': 1, 'a': 1, 'h': 1, ' ': 1, 'A': 1, 'n': 1, 'e': 1, 'l': 1}\n"
     ]
    }
   ],
   "source": [
    "stringVariable = input(\"Enter some words with space: \")\n",
    "words = {word: len(word) for word in stringVariable}\n",
    "print(words)"
   ]
  },
  {
   "cell_type": "code",
   "execution_count": 34,
   "id": "6e744168-72c2-44a8-9061-bfae2d49877c",
   "metadata": {},
   "outputs": [
    {
     "name": "stdout",
     "output_type": "stream",
     "text": [
      "Enter some words with space:  John Doe\n"
     ]
    },
    {
     "name": "stdout",
     "output_type": "stream",
     "text": [
      "{'J': 1, 'o': 1, 'h': 1, 'n': 1, ' ': 1, 'D': 1, 'e': 1}\n"
     ]
    }
   ],
   "source": [
    "stringVariable = input(\"Enter some words with space: \")\n",
    "words = {word: len(word) for word in stringVariable}\n",
    "print(words)"
   ]
  },
  {
   "cell_type": "code",
   "execution_count": null,
   "id": "ac4bcaca",
   "metadata": {},
   "outputs": [],
   "source": []
  }
 ],
 "metadata": {
  "kernelspec": {
   "display_name": "base",
   "language": "python",
   "name": "python3"
  },
  "language_info": {
   "codemirror_mode": {
    "name": "ipython",
    "version": 3
   },
   "file_extension": ".py",
   "mimetype": "text/x-python",
   "name": "python",
   "nbconvert_exporter": "python",
   "pygments_lexer": "ipython3",
   "version": "3.12.7"
  }
 },
 "nbformat": 4,
 "nbformat_minor": 5
}
